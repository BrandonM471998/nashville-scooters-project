{
 "cells": [
  {
   "cell_type": "code",
   "execution_count": 322,
   "metadata": {},
   "outputs": [],
   "source": [
    "import pandas as pd\n",
    "import matplotlib.pyplot as plt\n",
    "import seaborn as sns\n",
    "import numpy as np\n",
    "from matplotlib.ticker import PercentFormatter"
   ]
  },
  {
   "cell_type": "code",
   "execution_count": 323,
   "metadata": {},
   "outputs": [],
   "source": [
    "may = pd.read_pickle('../data/may.pkl')\n",
    "june = pd.read_pickle('../data/june.pkl')\n",
    "july = pd.read_pickle('../data/july.pkl')\n",
    "may_trip = pd.read_csv('../data/may_trip.csv')\n",
    "june_trip = pd.read_csv('../data/june_trip.csv')\n",
    "july_trip = pd.read_csv('../data/july_trip.csv')"
   ]
  },
  {
   "cell_type": "markdown",
   "metadata": {},
   "source": [
    "## company_dict = {'Bird':0, 'Lyft': 1, 'Gotcha': 2, 'Lime': 3, 'Spin': 4, 'Jump': 5, 'Bolt': 6}\n",
    "## Trip duration is in minutes"
   ]
  },
  {
   "cell_type": "markdown",
   "metadata": {},
   "source": [
    "## Exploring the data"
   ]
  },
  {
   "cell_type": "code",
   "execution_count": 324,
   "metadata": {},
   "outputs": [
    {
     "name": "stdout",
     "output_type": "stream",
     "text": [
      "<class 'pandas.core.frame.DataFrame'>\n",
      "RangeIndex: 20283582 entries, 0 to 20283581\n",
      "Data columns (total 6 columns):\n",
      " #   Column       Dtype         \n",
      "---  ------       -----         \n",
      " 0   pubdatetime  datetime64[ns]\n",
      " 1   latitude     float64       \n",
      " 2   longitude    float64       \n",
      " 3   sumdid       object        \n",
      " 4   chargelevel  float64       \n",
      " 5   companyname  int64         \n",
      "dtypes: datetime64[ns](1), float64(3), int64(1), object(1)\n",
      "memory usage: 928.5+ MB\n"
     ]
    }
   ],
   "source": [
    "#Checking the datatypes of each dataset\n",
    "may.info()"
   ]
  },
  {
   "cell_type": "code",
   "execution_count": 325,
   "metadata": {},
   "outputs": [
    {
     "name": "stdout",
     "output_type": "stream",
     "text": [
      "<class 'pandas.core.frame.DataFrame'>\n",
      "RangeIndex: 28037408 entries, 0 to 28037407\n",
      "Data columns (total 6 columns):\n",
      " #   Column       Dtype         \n",
      "---  ------       -----         \n",
      " 0   pubdatetime  datetime64[ns]\n",
      " 1   latitude     float64       \n",
      " 2   longitude    float64       \n",
      " 3   sumdid       object        \n",
      " 4   chargelevel  float64       \n",
      " 5   companyname  int64         \n",
      "dtypes: datetime64[ns](1), float64(3), int64(1), object(1)\n",
      "memory usage: 1.3+ GB\n"
     ]
    }
   ],
   "source": [
    "#Checking the datatypes of each dataset\n",
    "june.info()"
   ]
  },
  {
   "cell_type": "code",
   "execution_count": 326,
   "metadata": {},
   "outputs": [
    {
     "name": "stdout",
     "output_type": "stream",
     "text": [
      "<class 'pandas.core.frame.DataFrame'>\n",
      "Int64Index: 25066524 entries, 0 to 25075444\n",
      "Data columns (total 6 columns):\n",
      " #   Column       Dtype         \n",
      "---  ------       -----         \n",
      " 0   pubdatetime  datetime64[ns]\n",
      " 1   latitude     float64       \n",
      " 2   longitude    float64       \n",
      " 3   sumdid       object        \n",
      " 4   chargelevel  float64       \n",
      " 5   companyname  int64         \n",
      "dtypes: datetime64[ns](1), float64(3), int64(1), object(1)\n",
      "memory usage: 1.3+ GB\n"
     ]
    }
   ],
   "source": [
    "#Checking the datatypes of each dataset\n",
    "july.info()"
   ]
  },
  {
   "cell_type": "code",
   "execution_count": 327,
   "metadata": {},
   "outputs": [
    {
     "name": "stdout",
     "output_type": "stream",
     "text": [
      "<class 'pandas.core.frame.DataFrame'>\n",
      "RangeIndex: 224969 entries, 0 to 224968\n",
      "Data columns (total 16 columns):\n",
      " #   Column          Non-Null Count   Dtype  \n",
      "---  ------          --------------   -----  \n",
      " 0   pubTimeStamp    224969 non-null  object \n",
      " 1   companyName     224969 non-null  object \n",
      " 2   tripRecordNum   224969 non-null  object \n",
      " 3   sumdID          224969 non-null  object \n",
      " 4   tripDuration    224969 non-null  float64\n",
      " 5   tripDistance    224969 non-null  float64\n",
      " 6   startDate       224969 non-null  object \n",
      " 7   startTime       224969 non-null  object \n",
      " 8   endDate         224969 non-null  object \n",
      " 9   endTime         224969 non-null  object \n",
      " 10  startLatitude   224969 non-null  float64\n",
      " 11  startLongitude  224969 non-null  float64\n",
      " 12  endLatitude     224969 non-null  float64\n",
      " 13  endLongitude    224969 non-null  float64\n",
      " 14  tripRoute       224969 non-null  object \n",
      " 15  create_dt       224969 non-null  object \n",
      "dtypes: float64(6), object(10)\n",
      "memory usage: 27.5+ MB\n"
     ]
    }
   ],
   "source": [
    "#Checking the datatypes of each dataset\n",
    "may_trip.info()"
   ]
  },
  {
   "cell_type": "code",
   "execution_count": 328,
   "metadata": {},
   "outputs": [
    {
     "name": "stdout",
     "output_type": "stream",
     "text": [
      "<class 'pandas.core.frame.DataFrame'>\n",
      "RangeIndex: 205627 entries, 0 to 205626\n",
      "Data columns (total 16 columns):\n",
      " #   Column          Non-Null Count   Dtype  \n",
      "---  ------          --------------   -----  \n",
      " 0   pubTimeStamp    205627 non-null  object \n",
      " 1   companyName     205627 non-null  object \n",
      " 2   tripRecordNum   205627 non-null  object \n",
      " 3   sumdID          205627 non-null  object \n",
      " 4   tripDuration    205627 non-null  float64\n",
      " 5   tripDistance    205627 non-null  float64\n",
      " 6   startDate       205627 non-null  object \n",
      " 7   startTime       205627 non-null  object \n",
      " 8   endDate         205627 non-null  object \n",
      " 9   endTime         205627 non-null  object \n",
      " 10  startLatitude   205627 non-null  float64\n",
      " 11  startLongitude  205627 non-null  float64\n",
      " 12  endLatitude     205627 non-null  float64\n",
      " 13  endLongitude    205627 non-null  float64\n",
      " 14  tripRoute       205627 non-null  object \n",
      " 15  create_dt       205627 non-null  object \n",
      "dtypes: float64(6), object(10)\n",
      "memory usage: 25.1+ MB\n"
     ]
    }
   ],
   "source": [
    "#Checking the datatypes of each dataset\n",
    "june_trip.info()"
   ]
  },
  {
   "cell_type": "code",
   "execution_count": 329,
   "metadata": {},
   "outputs": [
    {
     "name": "stdout",
     "output_type": "stream",
     "text": [
      "<class 'pandas.core.frame.DataFrame'>\n",
      "RangeIndex: 134926 entries, 0 to 134925\n",
      "Data columns (total 16 columns):\n",
      " #   Column          Non-Null Count   Dtype  \n",
      "---  ------          --------------   -----  \n",
      " 0   pubTimeStamp    134926 non-null  object \n",
      " 1   companyName     134926 non-null  object \n",
      " 2   tripRecordNum   134926 non-null  object \n",
      " 3   sumdID          134926 non-null  object \n",
      " 4   tripDuration    134926 non-null  float64\n",
      " 5   tripDistance    134926 non-null  float64\n",
      " 6   startDate       134926 non-null  object \n",
      " 7   startTime       134926 non-null  object \n",
      " 8   endDate         134926 non-null  object \n",
      " 9   endTime         134926 non-null  object \n",
      " 10  startLatitude   134926 non-null  float64\n",
      " 11  startLongitude  134926 non-null  float64\n",
      " 12  endLatitude     134926 non-null  float64\n",
      " 13  endLongitude    134926 non-null  float64\n",
      " 14  tripRoute       134926 non-null  object \n",
      " 15  create_dt       134926 non-null  object \n",
      "dtypes: float64(6), object(10)\n",
      "memory usage: 16.5+ MB\n"
     ]
    }
   ],
   "source": [
    "#Checking the datatypes of each dataset\n",
    "july_trip.info()"
   ]
  },
  {
   "cell_type": "code",
   "execution_count": 330,
   "metadata": {},
   "outputs": [
    {
     "data": {
      "text/html": [
       "<div>\n",
       "<style scoped>\n",
       "    .dataframe tbody tr th:only-of-type {\n",
       "        vertical-align: middle;\n",
       "    }\n",
       "\n",
       "    .dataframe tbody tr th {\n",
       "        vertical-align: top;\n",
       "    }\n",
       "\n",
       "    .dataframe thead th {\n",
       "        text-align: right;\n",
       "    }\n",
       "</style>\n",
       "<table border=\"1\" class=\"dataframe\">\n",
       "  <thead>\n",
       "    <tr style=\"text-align: right;\">\n",
       "      <th></th>\n",
       "      <th>pubdatetime</th>\n",
       "      <th>latitude</th>\n",
       "      <th>longitude</th>\n",
       "      <th>sumdid</th>\n",
       "      <th>chargelevel</th>\n",
       "      <th>companyname</th>\n",
       "    </tr>\n",
       "  </thead>\n",
       "  <tbody>\n",
       "    <tr>\n",
       "      <th>0</th>\n",
       "      <td>2019-05-01 00:01:41.247</td>\n",
       "      <td>36.136822</td>\n",
       "      <td>-86.799877</td>\n",
       "      <td>PoweredLIRL1</td>\n",
       "      <td>93.0</td>\n",
       "      <td>0</td>\n",
       "    </tr>\n",
       "    <tr>\n",
       "      <th>1</th>\n",
       "      <td>2019-05-01 00:01:41.247</td>\n",
       "      <td>36.191252</td>\n",
       "      <td>-86.772945</td>\n",
       "      <td>PoweredXWRWC</td>\n",
       "      <td>35.0</td>\n",
       "      <td>0</td>\n",
       "    </tr>\n",
       "    <tr>\n",
       "      <th>2</th>\n",
       "      <td>2019-05-01 00:01:41.247</td>\n",
       "      <td>36.144752</td>\n",
       "      <td>-86.806293</td>\n",
       "      <td>PoweredMEJEH</td>\n",
       "      <td>90.0</td>\n",
       "      <td>0</td>\n",
       "    </tr>\n",
       "    <tr>\n",
       "      <th>3</th>\n",
       "      <td>2019-05-01 00:01:41.247</td>\n",
       "      <td>36.162056</td>\n",
       "      <td>-86.774688</td>\n",
       "      <td>Powered1A7TC</td>\n",
       "      <td>88.0</td>\n",
       "      <td>0</td>\n",
       "    </tr>\n",
       "    <tr>\n",
       "      <th>4</th>\n",
       "      <td>2019-05-01 00:01:41.247</td>\n",
       "      <td>36.150973</td>\n",
       "      <td>-86.783109</td>\n",
       "      <td>Powered2TYEF</td>\n",
       "      <td>98.0</td>\n",
       "      <td>0</td>\n",
       "    </tr>\n",
       "  </tbody>\n",
       "</table>\n",
       "</div>"
      ],
      "text/plain": [
       "              pubdatetime   latitude  longitude        sumdid  chargelevel  \\\n",
       "0 2019-05-01 00:01:41.247  36.136822 -86.799877  PoweredLIRL1         93.0   \n",
       "1 2019-05-01 00:01:41.247  36.191252 -86.772945  PoweredXWRWC         35.0   \n",
       "2 2019-05-01 00:01:41.247  36.144752 -86.806293  PoweredMEJEH         90.0   \n",
       "3 2019-05-01 00:01:41.247  36.162056 -86.774688  Powered1A7TC         88.0   \n",
       "4 2019-05-01 00:01:41.247  36.150973 -86.783109  Powered2TYEF         98.0   \n",
       "\n",
       "   companyname  \n",
       "0            0  \n",
       "1            0  \n",
       "2            0  \n",
       "3            0  \n",
       "4            0  "
      ]
     },
     "execution_count": 330,
     "metadata": {},
     "output_type": "execute_result"
    }
   ],
   "source": [
    "#explored the first five rows\n",
    "may.head()"
   ]
  },
  {
   "cell_type": "code",
   "execution_count": 331,
   "metadata": {},
   "outputs": [
    {
     "data": {
      "text/html": [
       "<div>\n",
       "<style scoped>\n",
       "    .dataframe tbody tr th:only-of-type {\n",
       "        vertical-align: middle;\n",
       "    }\n",
       "\n",
       "    .dataframe tbody tr th {\n",
       "        vertical-align: top;\n",
       "    }\n",
       "\n",
       "    .dataframe thead th {\n",
       "        text-align: right;\n",
       "    }\n",
       "</style>\n",
       "<table border=\"1\" class=\"dataframe\">\n",
       "  <thead>\n",
       "    <tr style=\"text-align: right;\">\n",
       "      <th></th>\n",
       "      <th>pubdatetime</th>\n",
       "      <th>latitude</th>\n",
       "      <th>longitude</th>\n",
       "      <th>sumdid</th>\n",
       "      <th>chargelevel</th>\n",
       "      <th>companyname</th>\n",
       "    </tr>\n",
       "  </thead>\n",
       "  <tbody>\n",
       "    <tr>\n",
       "      <th>0</th>\n",
       "      <td>2019-06-01 00:00:12</td>\n",
       "      <td>36.1202</td>\n",
       "      <td>-86.7534</td>\n",
       "      <td>Powered93627c35-0f62-5b81-a78d-75a4a92ecf47</td>\n",
       "      <td>90.0</td>\n",
       "      <td>5</td>\n",
       "    </tr>\n",
       "    <tr>\n",
       "      <th>1</th>\n",
       "      <td>2019-06-01 00:00:12</td>\n",
       "      <td>36.1630</td>\n",
       "      <td>-86.7765</td>\n",
       "      <td>Powered17715097-e8a0-5494-a5ab-9b625796607d</td>\n",
       "      <td>63.0</td>\n",
       "      <td>5</td>\n",
       "    </tr>\n",
       "    <tr>\n",
       "      <th>2</th>\n",
       "      <td>2019-06-01 00:00:12</td>\n",
       "      <td>36.1202</td>\n",
       "      <td>-86.7533</td>\n",
       "      <td>Powerede5cb95ae-b091-5a93-86fa-ededd946d0d7</td>\n",
       "      <td>77.0</td>\n",
       "      <td>5</td>\n",
       "    </tr>\n",
       "    <tr>\n",
       "      <th>3</th>\n",
       "      <td>2019-06-01 00:00:12</td>\n",
       "      <td>36.1201</td>\n",
       "      <td>-86.7530</td>\n",
       "      <td>Powered71fa5e4f-1e17-54c4-936d-330df38cc2fa</td>\n",
       "      <td>0.0</td>\n",
       "      <td>5</td>\n",
       "    </tr>\n",
       "    <tr>\n",
       "      <th>4</th>\n",
       "      <td>2019-06-01 00:00:12</td>\n",
       "      <td>36.1622</td>\n",
       "      <td>-86.7806</td>\n",
       "      <td>Poweredfa549dd6-40bb-5757-ac87-2c2528f2bc68</td>\n",
       "      <td>2.0</td>\n",
       "      <td>5</td>\n",
       "    </tr>\n",
       "  </tbody>\n",
       "</table>\n",
       "</div>"
      ],
      "text/plain": [
       "          pubdatetime  latitude  longitude  \\\n",
       "0 2019-06-01 00:00:12   36.1202   -86.7534   \n",
       "1 2019-06-01 00:00:12   36.1630   -86.7765   \n",
       "2 2019-06-01 00:00:12   36.1202   -86.7533   \n",
       "3 2019-06-01 00:00:12   36.1201   -86.7530   \n",
       "4 2019-06-01 00:00:12   36.1622   -86.7806   \n",
       "\n",
       "                                        sumdid  chargelevel  companyname  \n",
       "0  Powered93627c35-0f62-5b81-a78d-75a4a92ecf47         90.0            5  \n",
       "1  Powered17715097-e8a0-5494-a5ab-9b625796607d         63.0            5  \n",
       "2  Powerede5cb95ae-b091-5a93-86fa-ededd946d0d7         77.0            5  \n",
       "3  Powered71fa5e4f-1e17-54c4-936d-330df38cc2fa          0.0            5  \n",
       "4  Poweredfa549dd6-40bb-5757-ac87-2c2528f2bc68          2.0            5  "
      ]
     },
     "execution_count": 331,
     "metadata": {},
     "output_type": "execute_result"
    }
   ],
   "source": [
    "#explored the first five rows\n",
    "june.head()"
   ]
  },
  {
   "cell_type": "code",
   "execution_count": 332,
   "metadata": {},
   "outputs": [
    {
     "data": {
      "text/html": [
       "<div>\n",
       "<style scoped>\n",
       "    .dataframe tbody tr th:only-of-type {\n",
       "        vertical-align: middle;\n",
       "    }\n",
       "\n",
       "    .dataframe tbody tr th {\n",
       "        vertical-align: top;\n",
       "    }\n",
       "\n",
       "    .dataframe thead th {\n",
       "        text-align: right;\n",
       "    }\n",
       "</style>\n",
       "<table border=\"1\" class=\"dataframe\">\n",
       "  <thead>\n",
       "    <tr style=\"text-align: right;\">\n",
       "      <th></th>\n",
       "      <th>pubdatetime</th>\n",
       "      <th>latitude</th>\n",
       "      <th>longitude</th>\n",
       "      <th>sumdid</th>\n",
       "      <th>chargelevel</th>\n",
       "      <th>companyname</th>\n",
       "    </tr>\n",
       "  </thead>\n",
       "  <tbody>\n",
       "    <tr>\n",
       "      <th>0</th>\n",
       "      <td>2019-07-01 00:00:33.550</td>\n",
       "      <td>36.156678</td>\n",
       "      <td>-86.809004</td>\n",
       "      <td>Powered635135</td>\n",
       "      <td>22.0</td>\n",
       "      <td>1</td>\n",
       "    </tr>\n",
       "    <tr>\n",
       "      <th>1</th>\n",
       "      <td>2019-07-01 00:00:34.973</td>\n",
       "      <td>36.145674</td>\n",
       "      <td>-86.794138</td>\n",
       "      <td>Powered790946</td>\n",
       "      <td>33.0</td>\n",
       "      <td>1</td>\n",
       "    </tr>\n",
       "    <tr>\n",
       "      <th>2</th>\n",
       "      <td>2019-07-01 00:00:41.183</td>\n",
       "      <td>36.179319</td>\n",
       "      <td>-86.751538</td>\n",
       "      <td>Powered570380</td>\n",
       "      <td>76.0</td>\n",
       "      <td>1</td>\n",
       "    </tr>\n",
       "    <tr>\n",
       "      <th>3</th>\n",
       "      <td>2019-07-01 00:00:41.620</td>\n",
       "      <td>36.152111</td>\n",
       "      <td>-86.803821</td>\n",
       "      <td>Powered240631</td>\n",
       "      <td>43.0</td>\n",
       "      <td>1</td>\n",
       "    </tr>\n",
       "    <tr>\n",
       "      <th>4</th>\n",
       "      <td>2019-07-01 00:00:45.087</td>\n",
       "      <td>36.149355</td>\n",
       "      <td>-86.797550</td>\n",
       "      <td>Powered970404</td>\n",
       "      <td>52.0</td>\n",
       "      <td>1</td>\n",
       "    </tr>\n",
       "  </tbody>\n",
       "</table>\n",
       "</div>"
      ],
      "text/plain": [
       "              pubdatetime   latitude  longitude         sumdid  chargelevel  \\\n",
       "0 2019-07-01 00:00:33.550  36.156678 -86.809004  Powered635135         22.0   \n",
       "1 2019-07-01 00:00:34.973  36.145674 -86.794138  Powered790946         33.0   \n",
       "2 2019-07-01 00:00:41.183  36.179319 -86.751538  Powered570380         76.0   \n",
       "3 2019-07-01 00:00:41.620  36.152111 -86.803821  Powered240631         43.0   \n",
       "4 2019-07-01 00:00:45.087  36.149355 -86.797550  Powered970404         52.0   \n",
       "\n",
       "   companyname  \n",
       "0            1  \n",
       "1            1  \n",
       "2            1  \n",
       "3            1  \n",
       "4            1  "
      ]
     },
     "execution_count": 332,
     "metadata": {},
     "output_type": "execute_result"
    }
   ],
   "source": [
    "#explored the first five rows\n",
    "july.head()"
   ]
  },
  {
   "cell_type": "code",
   "execution_count": 333,
   "metadata": {},
   "outputs": [
    {
     "data": {
      "text/html": [
       "<div>\n",
       "<style scoped>\n",
       "    .dataframe tbody tr th:only-of-type {\n",
       "        vertical-align: middle;\n",
       "    }\n",
       "\n",
       "    .dataframe tbody tr th {\n",
       "        vertical-align: top;\n",
       "    }\n",
       "\n",
       "    .dataframe thead th {\n",
       "        text-align: right;\n",
       "    }\n",
       "</style>\n",
       "<table border=\"1\" class=\"dataframe\">\n",
       "  <thead>\n",
       "    <tr style=\"text-align: right;\">\n",
       "      <th></th>\n",
       "      <th>pubTimeStamp</th>\n",
       "      <th>companyName</th>\n",
       "      <th>tripRecordNum</th>\n",
       "      <th>sumdID</th>\n",
       "      <th>tripDuration</th>\n",
       "      <th>tripDistance</th>\n",
       "      <th>startDate</th>\n",
       "      <th>startTime</th>\n",
       "      <th>endDate</th>\n",
       "      <th>endTime</th>\n",
       "      <th>startLatitude</th>\n",
       "      <th>startLongitude</th>\n",
       "      <th>endLatitude</th>\n",
       "      <th>endLongitude</th>\n",
       "      <th>tripRoute</th>\n",
       "      <th>create_dt</th>\n",
       "    </tr>\n",
       "  </thead>\n",
       "  <tbody>\n",
       "    <tr>\n",
       "      <th>0</th>\n",
       "      <td>2019-05-01 00:00:55.423000</td>\n",
       "      <td>Bird</td>\n",
       "      <td>BRD2134</td>\n",
       "      <td>Powered9EAJL</td>\n",
       "      <td>3.0000</td>\n",
       "      <td>958.00528</td>\n",
       "      <td>2019-05-01 00:00:00</td>\n",
       "      <td>00:00:20.460000</td>\n",
       "      <td>2019-05-01 00:00:00</td>\n",
       "      <td>00:02:52.346666</td>\n",
       "      <td>36.15710</td>\n",
       "      <td>-86.80360</td>\n",
       "      <td>36.15660</td>\n",
       "      <td>-86.80670</td>\n",
       "      <td>[[36.157235,-86.803612],[36.157235,-86.80362],...</td>\n",
       "      <td>2019-05-02 05:30:23.780000</td>\n",
       "    </tr>\n",
       "    <tr>\n",
       "      <th>1</th>\n",
       "      <td>2019-05-01 00:03:33.147000</td>\n",
       "      <td>Lyft</td>\n",
       "      <td>LFT5</td>\n",
       "      <td>Powered296631</td>\n",
       "      <td>1.7156</td>\n",
       "      <td>1371.39112</td>\n",
       "      <td>2019-05-01 00:00:00</td>\n",
       "      <td>00:01:50.090000</td>\n",
       "      <td>2019-05-01 00:00:00</td>\n",
       "      <td>00:03:33.026666</td>\n",
       "      <td>36.15797</td>\n",
       "      <td>-86.77896</td>\n",
       "      <td>36.16054</td>\n",
       "      <td>-86.77689</td>\n",
       "      <td>[[36.15797,-86.77896],[36.15795,-86.77873],[36...</td>\n",
       "      <td>2019-05-02 07:20:32.757000</td>\n",
       "    </tr>\n",
       "    <tr>\n",
       "      <th>2</th>\n",
       "      <td>2019-05-01 00:05:55.570000</td>\n",
       "      <td>Bird</td>\n",
       "      <td>BRD2168</td>\n",
       "      <td>Powered7S2UU</td>\n",
       "      <td>3.0000</td>\n",
       "      <td>2296.58800</td>\n",
       "      <td>2019-05-01 00:00:00</td>\n",
       "      <td>00:03:47.363333</td>\n",
       "      <td>2019-05-01 00:00:00</td>\n",
       "      <td>00:07:13.596666</td>\n",
       "      <td>36.15470</td>\n",
       "      <td>-86.78180</td>\n",
       "      <td>36.15650</td>\n",
       "      <td>-86.78680</td>\n",
       "      <td>[[36.155068,-86.782124],[36.156597,-86.78675]]</td>\n",
       "      <td>2019-05-02 05:30:24.530000</td>\n",
       "    </tr>\n",
       "    <tr>\n",
       "      <th>3</th>\n",
       "      <td>2019-05-01 00:05:55.570000</td>\n",
       "      <td>Bird</td>\n",
       "      <td>BRD2166</td>\n",
       "      <td>PoweredZIIVX</td>\n",
       "      <td>3.0000</td>\n",
       "      <td>1200.78744</td>\n",
       "      <td>2019-05-01 00:00:00</td>\n",
       "      <td>00:04:21.386666</td>\n",
       "      <td>2019-05-01 00:00:00</td>\n",
       "      <td>00:06:59.176666</td>\n",
       "      <td>36.14940</td>\n",
       "      <td>-86.77950</td>\n",
       "      <td>36.15310</td>\n",
       "      <td>-86.77960</td>\n",
       "      <td>[[36.149741,-86.779344],[36.149741,-86.779327]...</td>\n",
       "      <td>2019-05-02 05:30:24.237000</td>\n",
       "    </tr>\n",
       "    <tr>\n",
       "      <th>4</th>\n",
       "      <td>2019-05-01 00:05:55.570000</td>\n",
       "      <td>Bird</td>\n",
       "      <td>BRD2165</td>\n",
       "      <td>PoweredJ7MB3</td>\n",
       "      <td>2.0000</td>\n",
       "      <td>351.04988</td>\n",
       "      <td>2019-05-01 00:00:00</td>\n",
       "      <td>00:04:27.796666</td>\n",
       "      <td>2019-05-01 00:00:00</td>\n",
       "      <td>00:06:23.150000</td>\n",
       "      <td>36.17780</td>\n",
       "      <td>-86.78660</td>\n",
       "      <td>36.17740</td>\n",
       "      <td>-86.78760</td>\n",
       "      <td>[[36.177699,-86.786477],[36.177711,-86.786469]...</td>\n",
       "      <td>2019-05-02 05:30:24.207000</td>\n",
       "    </tr>\n",
       "  </tbody>\n",
       "</table>\n",
       "</div>"
      ],
      "text/plain": [
       "                 pubTimeStamp companyName tripRecordNum         sumdID  \\\n",
       "0  2019-05-01 00:00:55.423000        Bird       BRD2134   Powered9EAJL   \n",
       "1  2019-05-01 00:03:33.147000        Lyft          LFT5  Powered296631   \n",
       "2  2019-05-01 00:05:55.570000        Bird       BRD2168   Powered7S2UU   \n",
       "3  2019-05-01 00:05:55.570000        Bird       BRD2166   PoweredZIIVX   \n",
       "4  2019-05-01 00:05:55.570000        Bird       BRD2165   PoweredJ7MB3   \n",
       "\n",
       "   tripDuration  tripDistance            startDate        startTime  \\\n",
       "0        3.0000     958.00528  2019-05-01 00:00:00  00:00:20.460000   \n",
       "1        1.7156    1371.39112  2019-05-01 00:00:00  00:01:50.090000   \n",
       "2        3.0000    2296.58800  2019-05-01 00:00:00  00:03:47.363333   \n",
       "3        3.0000    1200.78744  2019-05-01 00:00:00  00:04:21.386666   \n",
       "4        2.0000     351.04988  2019-05-01 00:00:00  00:04:27.796666   \n",
       "\n",
       "               endDate          endTime  startLatitude  startLongitude  \\\n",
       "0  2019-05-01 00:00:00  00:02:52.346666       36.15710       -86.80360   \n",
       "1  2019-05-01 00:00:00  00:03:33.026666       36.15797       -86.77896   \n",
       "2  2019-05-01 00:00:00  00:07:13.596666       36.15470       -86.78180   \n",
       "3  2019-05-01 00:00:00  00:06:59.176666       36.14940       -86.77950   \n",
       "4  2019-05-01 00:00:00  00:06:23.150000       36.17780       -86.78660   \n",
       "\n",
       "   endLatitude  endLongitude  \\\n",
       "0     36.15660     -86.80670   \n",
       "1     36.16054     -86.77689   \n",
       "2     36.15650     -86.78680   \n",
       "3     36.15310     -86.77960   \n",
       "4     36.17740     -86.78760   \n",
       "\n",
       "                                           tripRoute  \\\n",
       "0  [[36.157235,-86.803612],[36.157235,-86.80362],...   \n",
       "1  [[36.15797,-86.77896],[36.15795,-86.77873],[36...   \n",
       "2     [[36.155068,-86.782124],[36.156597,-86.78675]]   \n",
       "3  [[36.149741,-86.779344],[36.149741,-86.779327]...   \n",
       "4  [[36.177699,-86.786477],[36.177711,-86.786469]...   \n",
       "\n",
       "                    create_dt  \n",
       "0  2019-05-02 05:30:23.780000  \n",
       "1  2019-05-02 07:20:32.757000  \n",
       "2  2019-05-02 05:30:24.530000  \n",
       "3  2019-05-02 05:30:24.237000  \n",
       "4  2019-05-02 05:30:24.207000  "
      ]
     },
     "execution_count": 333,
     "metadata": {},
     "output_type": "execute_result"
    }
   ],
   "source": [
    "#explored the first five rows\n",
    "may_trip.head()"
   ]
  },
  {
   "cell_type": "code",
   "execution_count": 334,
   "metadata": {},
   "outputs": [
    {
     "data": {
      "text/plain": [
       "companyName\n",
       "Bird             2945\n",
       "Bolt Mobility     342\n",
       "Gotcha            105\n",
       "JUMP                1\n",
       "Lime             1576\n",
       "Lyft             1361\n",
       "SPIN              636\n",
       "Name: sumdID, dtype: int64"
      ]
     },
     "execution_count": 334,
     "metadata": {},
     "output_type": "execute_result"
    }
   ],
   "source": [
    "#Found out how many unique devices there were by company\n",
    "may_trip.groupby('companyName')['sumdID'].nunique()"
   ]
  },
  {
   "cell_type": "code",
   "execution_count": 335,
   "metadata": {},
   "outputs": [
    {
     "data": {
      "text/plain": [
       "companyname\n",
       "0    3064\n",
       "1    1376\n",
       "2     223\n",
       "3    1631\n",
       "4     687\n",
       "5     976\n",
       "6     346\n",
       "Name: sumdid, dtype: int64"
      ]
     },
     "execution_count": 335,
     "metadata": {},
     "output_type": "execute_result"
    }
   ],
   "source": [
    "may.groupby('companyname')['sumdid'].nunique()"
   ]
  },
  {
   "cell_type": "code",
   "execution_count": 336,
   "metadata": {},
   "outputs": [
    {
     "data": {
      "text/plain": [
       "8303"
      ]
     },
     "execution_count": 336,
     "metadata": {},
     "output_type": "execute_result"
    }
   ],
   "source": [
    "may.sumdid.nunique()"
   ]
  },
  {
   "cell_type": "code",
   "execution_count": 337,
   "metadata": {},
   "outputs": [
    {
     "data": {
      "text/plain": [
       "6966"
      ]
     },
     "execution_count": 337,
     "metadata": {},
     "output_type": "execute_result"
    }
   ],
   "source": [
    "#double checking the math\n",
    "may_trip.sumdID.nunique()"
   ]
  },
  {
   "cell_type": "code",
   "execution_count": 338,
   "metadata": {},
   "outputs": [
    {
     "data": {
      "text/html": [
       "<div>\n",
       "<style scoped>\n",
       "    .dataframe tbody tr th:only-of-type {\n",
       "        vertical-align: middle;\n",
       "    }\n",
       "\n",
       "    .dataframe tbody tr th {\n",
       "        vertical-align: top;\n",
       "    }\n",
       "\n",
       "    .dataframe thead th {\n",
       "        text-align: right;\n",
       "    }\n",
       "</style>\n",
       "<table border=\"1\" class=\"dataframe\">\n",
       "  <thead>\n",
       "    <tr style=\"text-align: right;\">\n",
       "      <th></th>\n",
       "      <th>pubTimeStamp</th>\n",
       "      <th>companyName</th>\n",
       "      <th>tripRecordNum</th>\n",
       "      <th>sumdID</th>\n",
       "      <th>tripDuration</th>\n",
       "      <th>tripDistance</th>\n",
       "      <th>startDate</th>\n",
       "      <th>startTime</th>\n",
       "      <th>endDate</th>\n",
       "      <th>endTime</th>\n",
       "      <th>startLatitude</th>\n",
       "      <th>startLongitude</th>\n",
       "      <th>endLatitude</th>\n",
       "      <th>endLongitude</th>\n",
       "      <th>tripRoute</th>\n",
       "      <th>create_dt</th>\n",
       "    </tr>\n",
       "  </thead>\n",
       "  <tbody>\n",
       "    <tr>\n",
       "      <th>0</th>\n",
       "      <td>2019-06-01 00:05:46.817000</td>\n",
       "      <td>Bird</td>\n",
       "      <td>BRD3572</td>\n",
       "      <td>PoweredSPI1T</td>\n",
       "      <td>4.0</td>\n",
       "      <td>328.084000</td>\n",
       "      <td>2019-06-01 00:00:00</td>\n",
       "      <td>00:02:18.203333</td>\n",
       "      <td>2019-06-01 00:00:00</td>\n",
       "      <td>00:06:16.406666</td>\n",
       "      <td>36.164400</td>\n",
       "      <td>-86.78070</td>\n",
       "      <td>36.163600</td>\n",
       "      <td>-86.780200</td>\n",
       "      <td>[[36.164679,-86.781089],[36.163693,-86.78011],...</td>\n",
       "      <td>2019-06-02 05:30:19.960000</td>\n",
       "    </tr>\n",
       "    <tr>\n",
       "      <th>1</th>\n",
       "      <td>2019-06-01 00:05:46.817000</td>\n",
       "      <td>Bird</td>\n",
       "      <td>BRD3571</td>\n",
       "      <td>Powered2I3MS</td>\n",
       "      <td>5.0</td>\n",
       "      <td>4921.260000</td>\n",
       "      <td>2019-06-01 00:00:00</td>\n",
       "      <td>00:02:44.803333</td>\n",
       "      <td>2019-06-01 00:00:00</td>\n",
       "      <td>00:07:28.286666</td>\n",
       "      <td>36.175300</td>\n",
       "      <td>-86.79430</td>\n",
       "      <td>36.175300</td>\n",
       "      <td>-86.794300</td>\n",
       "      <td>[[36.175367,-86.794232],[36.175367,-86.794232]...</td>\n",
       "      <td>2019-06-02 05:30:19.927000</td>\n",
       "    </tr>\n",
       "    <tr>\n",
       "      <th>2</th>\n",
       "      <td>2019-06-01 00:09:54</td>\n",
       "      <td>Gotcha</td>\n",
       "      <td>GOT1</td>\n",
       "      <td>Powered327</td>\n",
       "      <td>12.0</td>\n",
       "      <td>12.426575</td>\n",
       "      <td>2019-06-01 00:00:00</td>\n",
       "      <td>00:09:56</td>\n",
       "      <td>2019-06-01 00:00:00</td>\n",
       "      <td>00:21:56</td>\n",
       "      <td>36.161501</td>\n",
       "      <td>-86.77601</td>\n",
       "      <td>36.152529</td>\n",
       "      <td>-86.783742</td>\n",
       "      <td>[[\"36.16149\",\"-86.77605000000001\"]]</td>\n",
       "      <td>2019-06-06 22:23:08.673000</td>\n",
       "    </tr>\n",
       "    <tr>\n",
       "      <th>3</th>\n",
       "      <td>2019-06-01 00:10:46.957000</td>\n",
       "      <td>Bird</td>\n",
       "      <td>BRD3610</td>\n",
       "      <td>Powered8U1A6</td>\n",
       "      <td>2.0</td>\n",
       "      <td>0.000000</td>\n",
       "      <td>2019-06-01 00:00:00</td>\n",
       "      <td>00:10:31.163333</td>\n",
       "      <td>2019-06-01 00:00:00</td>\n",
       "      <td>00:12:02.773333</td>\n",
       "      <td>36.164000</td>\n",
       "      <td>-86.78070</td>\n",
       "      <td>36.163100</td>\n",
       "      <td>-86.779700</td>\n",
       "      <td>[[36.163168,-86.779639]]</td>\n",
       "      <td>2019-06-02 05:30:20.283000</td>\n",
       "    </tr>\n",
       "    <tr>\n",
       "      <th>4</th>\n",
       "      <td>2019-06-01 00:10:46.957000</td>\n",
       "      <td>Bird</td>\n",
       "      <td>BRD3612</td>\n",
       "      <td>PoweredSPI1T</td>\n",
       "      <td>5.0</td>\n",
       "      <td>656.168000</td>\n",
       "      <td>2019-06-01 00:00:00</td>\n",
       "      <td>00:07:21.430000</td>\n",
       "      <td>2019-06-01 00:00:00</td>\n",
       "      <td>00:12:30.913333</td>\n",
       "      <td>36.165000</td>\n",
       "      <td>-86.77990</td>\n",
       "      <td>36.165900</td>\n",
       "      <td>-86.777800</td>\n",
       "      <td>[[36.164951,-86.779836],[36.16494,-86.779456],...</td>\n",
       "      <td>2019-06-02 05:30:20.347000</td>\n",
       "    </tr>\n",
       "  </tbody>\n",
       "</table>\n",
       "</div>"
      ],
      "text/plain": [
       "                 pubTimeStamp companyName tripRecordNum        sumdID  \\\n",
       "0  2019-06-01 00:05:46.817000        Bird       BRD3572  PoweredSPI1T   \n",
       "1  2019-06-01 00:05:46.817000        Bird       BRD3571  Powered2I3MS   \n",
       "2         2019-06-01 00:09:54      Gotcha          GOT1    Powered327   \n",
       "3  2019-06-01 00:10:46.957000        Bird       BRD3610  Powered8U1A6   \n",
       "4  2019-06-01 00:10:46.957000        Bird       BRD3612  PoweredSPI1T   \n",
       "\n",
       "   tripDuration  tripDistance            startDate        startTime  \\\n",
       "0           4.0    328.084000  2019-06-01 00:00:00  00:02:18.203333   \n",
       "1           5.0   4921.260000  2019-06-01 00:00:00  00:02:44.803333   \n",
       "2          12.0     12.426575  2019-06-01 00:00:00         00:09:56   \n",
       "3           2.0      0.000000  2019-06-01 00:00:00  00:10:31.163333   \n",
       "4           5.0    656.168000  2019-06-01 00:00:00  00:07:21.430000   \n",
       "\n",
       "               endDate          endTime  startLatitude  startLongitude  \\\n",
       "0  2019-06-01 00:00:00  00:06:16.406666      36.164400       -86.78070   \n",
       "1  2019-06-01 00:00:00  00:07:28.286666      36.175300       -86.79430   \n",
       "2  2019-06-01 00:00:00         00:21:56      36.161501       -86.77601   \n",
       "3  2019-06-01 00:00:00  00:12:02.773333      36.164000       -86.78070   \n",
       "4  2019-06-01 00:00:00  00:12:30.913333      36.165000       -86.77990   \n",
       "\n",
       "   endLatitude  endLongitude  \\\n",
       "0    36.163600    -86.780200   \n",
       "1    36.175300    -86.794300   \n",
       "2    36.152529    -86.783742   \n",
       "3    36.163100    -86.779700   \n",
       "4    36.165900    -86.777800   \n",
       "\n",
       "                                           tripRoute  \\\n",
       "0  [[36.164679,-86.781089],[36.163693,-86.78011],...   \n",
       "1  [[36.175367,-86.794232],[36.175367,-86.794232]...   \n",
       "2                [[\"36.16149\",\"-86.77605000000001\"]]   \n",
       "3                           [[36.163168,-86.779639]]   \n",
       "4  [[36.164951,-86.779836],[36.16494,-86.779456],...   \n",
       "\n",
       "                    create_dt  \n",
       "0  2019-06-02 05:30:19.960000  \n",
       "1  2019-06-02 05:30:19.927000  \n",
       "2  2019-06-06 22:23:08.673000  \n",
       "3  2019-06-02 05:30:20.283000  \n",
       "4  2019-06-02 05:30:20.347000  "
      ]
     },
     "execution_count": 338,
     "metadata": {},
     "output_type": "execute_result"
    }
   ],
   "source": [
    "#explored the first five rows\n",
    "june_trip.head()"
   ]
  },
  {
   "cell_type": "code",
   "execution_count": 339,
   "metadata": {},
   "outputs": [
    {
     "data": {
      "text/plain": [
       "companyName\n",
       "Bird             2864\n",
       "Bolt Mobility     329\n",
       "Gotcha            133\n",
       "JUMP              182\n",
       "Lime             1423\n",
       "Lyft             1141\n",
       "SPIN              670\n",
       "Name: sumdID, dtype: int64"
      ]
     },
     "execution_count": 339,
     "metadata": {},
     "output_type": "execute_result"
    }
   ],
   "source": [
    "#Found out how many unique devices there were by company\n",
    "june_trip.groupby('companyName')['sumdID'].nunique()"
   ]
  },
  {
   "cell_type": "code",
   "execution_count": 340,
   "metadata": {},
   "outputs": [
    {
     "data": {
      "text/plain": [
       "6742"
      ]
     },
     "execution_count": 340,
     "metadata": {},
     "output_type": "execute_result"
    }
   ],
   "source": [
    "#double checking the math\n",
    "june_trip.sumdID.nunique()"
   ]
  },
  {
   "cell_type": "code",
   "execution_count": 341,
   "metadata": {},
   "outputs": [
    {
     "data": {
      "text/html": [
       "<div>\n",
       "<style scoped>\n",
       "    .dataframe tbody tr th:only-of-type {\n",
       "        vertical-align: middle;\n",
       "    }\n",
       "\n",
       "    .dataframe tbody tr th {\n",
       "        vertical-align: top;\n",
       "    }\n",
       "\n",
       "    .dataframe thead th {\n",
       "        text-align: right;\n",
       "    }\n",
       "</style>\n",
       "<table border=\"1\" class=\"dataframe\">\n",
       "  <thead>\n",
       "    <tr style=\"text-align: right;\">\n",
       "      <th></th>\n",
       "      <th>pubTimeStamp</th>\n",
       "      <th>companyName</th>\n",
       "      <th>tripRecordNum</th>\n",
       "      <th>sumdID</th>\n",
       "      <th>tripDuration</th>\n",
       "      <th>tripDistance</th>\n",
       "      <th>startDate</th>\n",
       "      <th>startTime</th>\n",
       "      <th>endDate</th>\n",
       "      <th>endTime</th>\n",
       "      <th>startLatitude</th>\n",
       "      <th>startLongitude</th>\n",
       "      <th>endLatitude</th>\n",
       "      <th>endLongitude</th>\n",
       "      <th>tripRoute</th>\n",
       "      <th>create_dt</th>\n",
       "    </tr>\n",
       "  </thead>\n",
       "  <tbody>\n",
       "    <tr>\n",
       "      <th>0</th>\n",
       "      <td>2019-07-01 00:02:52.213000</td>\n",
       "      <td>Bird</td>\n",
       "      <td>BRD5179</td>\n",
       "      <td>PoweredZSHKJ</td>\n",
       "      <td>2.0</td>\n",
       "      <td>0.0</td>\n",
       "      <td>2019-07-01 00:00:00</td>\n",
       "      <td>00:01:32.290000</td>\n",
       "      <td>2019-07-01 00:00:00</td>\n",
       "      <td>00:03:55.966666</td>\n",
       "      <td>36.1775</td>\n",
       "      <td>-86.7516</td>\n",
       "      <td>36.1778</td>\n",
       "      <td>-86.7514</td>\n",
       "      <td>[[36.177438,-86.751861],[36.177425,-86.751987]...</td>\n",
       "      <td>2019-07-02 05:30:18.333000</td>\n",
       "    </tr>\n",
       "    <tr>\n",
       "      <th>1</th>\n",
       "      <td>2019-07-01 00:02:52.213000</td>\n",
       "      <td>Bird</td>\n",
       "      <td>BRD5177</td>\n",
       "      <td>Powered22JF6</td>\n",
       "      <td>0.0</td>\n",
       "      <td>0.0</td>\n",
       "      <td>2019-07-01 00:00:00</td>\n",
       "      <td>00:02:38.640000</td>\n",
       "      <td>2019-07-01 00:00:00</td>\n",
       "      <td>00:02:54.406666</td>\n",
       "      <td>36.1627</td>\n",
       "      <td>-86.7711</td>\n",
       "      <td>36.1627</td>\n",
       "      <td>-86.7711</td>\n",
       "      <td>[[36.162718,-86.771102],[36.162718,-86.771102]]</td>\n",
       "      <td>2019-07-02 05:30:18.273000</td>\n",
       "    </tr>\n",
       "    <tr>\n",
       "      <th>2</th>\n",
       "      <td>2019-07-01 00:02:52.213000</td>\n",
       "      <td>Bird</td>\n",
       "      <td>BRD5176</td>\n",
       "      <td>Powered22JF6</td>\n",
       "      <td>1.0</td>\n",
       "      <td>0.0</td>\n",
       "      <td>2019-07-01 00:00:00</td>\n",
       "      <td>00:03:04.333333</td>\n",
       "      <td>2019-07-01 00:00:00</td>\n",
       "      <td>00:03:37.680000</td>\n",
       "      <td>36.1627</td>\n",
       "      <td>-86.7713</td>\n",
       "      <td>36.1627</td>\n",
       "      <td>-86.7713</td>\n",
       "      <td>[[36.162734,-86.77122],[36.162706,-86.771325],...</td>\n",
       "      <td>2019-07-02 05:30:18.243000</td>\n",
       "    </tr>\n",
       "    <tr>\n",
       "      <th>3</th>\n",
       "      <td>2019-07-01 00:02:52.213000</td>\n",
       "      <td>Bird</td>\n",
       "      <td>BRD5178</td>\n",
       "      <td>PoweredIB2CC</td>\n",
       "      <td>1.0</td>\n",
       "      <td>0.0</td>\n",
       "      <td>2019-07-01 00:00:00</td>\n",
       "      <td>00:02:06.963333</td>\n",
       "      <td>2019-07-01 00:00:00</td>\n",
       "      <td>00:03:25.766666</td>\n",
       "      <td>36.1525</td>\n",
       "      <td>-86.7988</td>\n",
       "      <td>36.1525</td>\n",
       "      <td>-86.7988</td>\n",
       "      <td>[[36.152499,-86.798708]]</td>\n",
       "      <td>2019-07-02 05:30:18.303000</td>\n",
       "    </tr>\n",
       "    <tr>\n",
       "      <th>4</th>\n",
       "      <td>2019-07-01 00:02:52.213000</td>\n",
       "      <td>Bird</td>\n",
       "      <td>BRD5180</td>\n",
       "      <td>PoweredW4G7R</td>\n",
       "      <td>2.0</td>\n",
       "      <td>0.0</td>\n",
       "      <td>2019-07-01 00:00:00</td>\n",
       "      <td>00:01:19.843333</td>\n",
       "      <td>2019-07-01 00:00:00</td>\n",
       "      <td>00:02:53.976666</td>\n",
       "      <td>36.1578</td>\n",
       "      <td>-86.7760</td>\n",
       "      <td>36.1575</td>\n",
       "      <td>-86.7758</td>\n",
       "      <td>[[36.157523,-86.775794]]</td>\n",
       "      <td>2019-07-02 05:30:18.363000</td>\n",
       "    </tr>\n",
       "  </tbody>\n",
       "</table>\n",
       "</div>"
      ],
      "text/plain": [
       "                 pubTimeStamp companyName tripRecordNum        sumdID  \\\n",
       "0  2019-07-01 00:02:52.213000        Bird       BRD5179  PoweredZSHKJ   \n",
       "1  2019-07-01 00:02:52.213000        Bird       BRD5177  Powered22JF6   \n",
       "2  2019-07-01 00:02:52.213000        Bird       BRD5176  Powered22JF6   \n",
       "3  2019-07-01 00:02:52.213000        Bird       BRD5178  PoweredIB2CC   \n",
       "4  2019-07-01 00:02:52.213000        Bird       BRD5180  PoweredW4G7R   \n",
       "\n",
       "   tripDuration  tripDistance            startDate        startTime  \\\n",
       "0           2.0           0.0  2019-07-01 00:00:00  00:01:32.290000   \n",
       "1           0.0           0.0  2019-07-01 00:00:00  00:02:38.640000   \n",
       "2           1.0           0.0  2019-07-01 00:00:00  00:03:04.333333   \n",
       "3           1.0           0.0  2019-07-01 00:00:00  00:02:06.963333   \n",
       "4           2.0           0.0  2019-07-01 00:00:00  00:01:19.843333   \n",
       "\n",
       "               endDate          endTime  startLatitude  startLongitude  \\\n",
       "0  2019-07-01 00:00:00  00:03:55.966666        36.1775        -86.7516   \n",
       "1  2019-07-01 00:00:00  00:02:54.406666        36.1627        -86.7711   \n",
       "2  2019-07-01 00:00:00  00:03:37.680000        36.1627        -86.7713   \n",
       "3  2019-07-01 00:00:00  00:03:25.766666        36.1525        -86.7988   \n",
       "4  2019-07-01 00:00:00  00:02:53.976666        36.1578        -86.7760   \n",
       "\n",
       "   endLatitude  endLongitude  \\\n",
       "0      36.1778      -86.7514   \n",
       "1      36.1627      -86.7711   \n",
       "2      36.1627      -86.7713   \n",
       "3      36.1525      -86.7988   \n",
       "4      36.1575      -86.7758   \n",
       "\n",
       "                                           tripRoute  \\\n",
       "0  [[36.177438,-86.751861],[36.177425,-86.751987]...   \n",
       "1    [[36.162718,-86.771102],[36.162718,-86.771102]]   \n",
       "2  [[36.162734,-86.77122],[36.162706,-86.771325],...   \n",
       "3                           [[36.152499,-86.798708]]   \n",
       "4                           [[36.157523,-86.775794]]   \n",
       "\n",
       "                    create_dt  \n",
       "0  2019-07-02 05:30:18.333000  \n",
       "1  2019-07-02 05:30:18.273000  \n",
       "2  2019-07-02 05:30:18.243000  \n",
       "3  2019-07-02 05:30:18.303000  \n",
       "4  2019-07-02 05:30:18.363000  "
      ]
     },
     "execution_count": 341,
     "metadata": {},
     "output_type": "execute_result"
    }
   ],
   "source": [
    "#explored the first five rows\n",
    "july_trip.head()"
   ]
  },
  {
   "cell_type": "code",
   "execution_count": 342,
   "metadata": {
    "scrolled": true
   },
   "outputs": [
    {
     "data": {
      "text/html": [
       "<div>\n",
       "<style scoped>\n",
       "    .dataframe tbody tr th:only-of-type {\n",
       "        vertical-align: middle;\n",
       "    }\n",
       "\n",
       "    .dataframe tbody tr th {\n",
       "        vertical-align: top;\n",
       "    }\n",
       "\n",
       "    .dataframe thead th {\n",
       "        text-align: right;\n",
       "    }\n",
       "</style>\n",
       "<table border=\"1\" class=\"dataframe\">\n",
       "  <thead>\n",
       "    <tr style=\"text-align: right;\">\n",
       "      <th></th>\n",
       "      <th>pubTimeStamp</th>\n",
       "      <th>companyName</th>\n",
       "      <th>tripRecordNum</th>\n",
       "      <th>sumdID</th>\n",
       "      <th>tripDuration</th>\n",
       "      <th>tripDistance</th>\n",
       "      <th>startDate</th>\n",
       "      <th>startTime</th>\n",
       "      <th>endDate</th>\n",
       "      <th>endTime</th>\n",
       "      <th>startLatitude</th>\n",
       "      <th>startLongitude</th>\n",
       "      <th>endLatitude</th>\n",
       "      <th>endLongitude</th>\n",
       "      <th>tripRoute</th>\n",
       "      <th>create_dt</th>\n",
       "    </tr>\n",
       "  </thead>\n",
       "  <tbody>\n",
       "    <tr>\n",
       "      <th>134921</th>\n",
       "      <td>2019-08-01 04:53:48</td>\n",
       "      <td>JUMP</td>\n",
       "      <td>JMP3</td>\n",
       "      <td>Powered5614e4fc-1971-5e5c-a545-0fd88cd3331d</td>\n",
       "      <td>17.497950</td>\n",
       "      <td>7075.2</td>\n",
       "      <td>2019-07-31 00:00:00</td>\n",
       "      <td>23:47:43</td>\n",
       "      <td>2019-08-01 00:00:00</td>\n",
       "      <td>00:05:13</td>\n",
       "      <td>36.154633</td>\n",
       "      <td>-86.798340</td>\n",
       "      <td>36.149220</td>\n",
       "      <td>-86.813980</td>\n",
       "      <td>[[\"36.154631\",\"-86.798341\"],[\"36.154631\",\"-86....</td>\n",
       "      <td>2019-08-02 08:21:27.127000</td>\n",
       "    </tr>\n",
       "    <tr>\n",
       "      <th>134922</th>\n",
       "      <td>2019-08-01 04:53:48</td>\n",
       "      <td>JUMP</td>\n",
       "      <td>JMP2</td>\n",
       "      <td>Powereda4712099-5e55-5332-996c-d6e5c910535d</td>\n",
       "      <td>3.154917</td>\n",
       "      <td>1320.0</td>\n",
       "      <td>2019-07-31 00:00:00</td>\n",
       "      <td>23:57:19</td>\n",
       "      <td>2019-08-01 00:00:00</td>\n",
       "      <td>00:00:28</td>\n",
       "      <td>36.153015</td>\n",
       "      <td>-86.783585</td>\n",
       "      <td>36.152843</td>\n",
       "      <td>-86.779594</td>\n",
       "      <td>[[\"36.153016\",\"-86.783586\"],[\"36.153016\",\"-86....</td>\n",
       "      <td>2019-08-02 08:21:26.773000</td>\n",
       "    </tr>\n",
       "    <tr>\n",
       "      <th>134923</th>\n",
       "      <td>2019-08-01 04:53:48</td>\n",
       "      <td>JUMP</td>\n",
       "      <td>JMP1</td>\n",
       "      <td>Poweredb8a3a269-d1ca-571f-9b2f-89b7399b5537</td>\n",
       "      <td>18.440650</td>\n",
       "      <td>7920.0</td>\n",
       "      <td>2019-07-31 00:00:00</td>\n",
       "      <td>23:41:52</td>\n",
       "      <td>2019-08-01 00:00:00</td>\n",
       "      <td>00:00:18</td>\n",
       "      <td>36.153687</td>\n",
       "      <td>-86.784580</td>\n",
       "      <td>36.164158</td>\n",
       "      <td>-86.776900</td>\n",
       "      <td>[[\"36.153685\",\"-86.784578\"],[\"36.153685\",\"-86....</td>\n",
       "      <td>2019-08-02 08:21:26.803000</td>\n",
       "    </tr>\n",
       "    <tr>\n",
       "      <th>134924</th>\n",
       "      <td>2019-08-01 07:04:00</td>\n",
       "      <td>JUMP</td>\n",
       "      <td>JMP35</td>\n",
       "      <td>Poweredf077a919-d569-5e70-8ca7-71d179ffacf9</td>\n",
       "      <td>142.345610</td>\n",
       "      <td>20433.6</td>\n",
       "      <td>2019-07-31 00:00:00</td>\n",
       "      <td>23:26:15</td>\n",
       "      <td>2019-08-01 00:00:00</td>\n",
       "      <td>01:48:35</td>\n",
       "      <td>36.155735</td>\n",
       "      <td>-86.775185</td>\n",
       "      <td>36.173904</td>\n",
       "      <td>-86.785450</td>\n",
       "      <td>[[\"36.155736\",\"-86.775181\"],[\"36.155531\",\"-86....</td>\n",
       "      <td>2019-08-02 08:24:21.967000</td>\n",
       "    </tr>\n",
       "    <tr>\n",
       "      <th>134925</th>\n",
       "      <td>2019-08-01 07:04:00</td>\n",
       "      <td>JUMP</td>\n",
       "      <td>JMP34</td>\n",
       "      <td>Powered784fcc92-bd1a-5f6a-8314-b02aa21b4bfa</td>\n",
       "      <td>209.409650</td>\n",
       "      <td>14889.6</td>\n",
       "      <td>2019-07-31 00:00:00</td>\n",
       "      <td>22:19:08</td>\n",
       "      <td>2019-08-01 00:00:00</td>\n",
       "      <td>01:48:33</td>\n",
       "      <td>36.160050</td>\n",
       "      <td>-86.776720</td>\n",
       "      <td>36.163410</td>\n",
       "      <td>-86.782100</td>\n",
       "      <td>[[\"36.160051\",\"-86.77672\"],[\"36.160051\",\"-86.7...</td>\n",
       "      <td>2019-08-02 08:24:22</td>\n",
       "    </tr>\n",
       "  </tbody>\n",
       "</table>\n",
       "</div>"
      ],
      "text/plain": [
       "               pubTimeStamp companyName tripRecordNum  \\\n",
       "134921  2019-08-01 04:53:48        JUMP          JMP3   \n",
       "134922  2019-08-01 04:53:48        JUMP          JMP2   \n",
       "134923  2019-08-01 04:53:48        JUMP          JMP1   \n",
       "134924  2019-08-01 07:04:00        JUMP         JMP35   \n",
       "134925  2019-08-01 07:04:00        JUMP         JMP34   \n",
       "\n",
       "                                             sumdID  tripDuration  \\\n",
       "134921  Powered5614e4fc-1971-5e5c-a545-0fd88cd3331d     17.497950   \n",
       "134922  Powereda4712099-5e55-5332-996c-d6e5c910535d      3.154917   \n",
       "134923  Poweredb8a3a269-d1ca-571f-9b2f-89b7399b5537     18.440650   \n",
       "134924  Poweredf077a919-d569-5e70-8ca7-71d179ffacf9    142.345610   \n",
       "134925  Powered784fcc92-bd1a-5f6a-8314-b02aa21b4bfa    209.409650   \n",
       "\n",
       "        tripDistance            startDate startTime              endDate  \\\n",
       "134921        7075.2  2019-07-31 00:00:00  23:47:43  2019-08-01 00:00:00   \n",
       "134922        1320.0  2019-07-31 00:00:00  23:57:19  2019-08-01 00:00:00   \n",
       "134923        7920.0  2019-07-31 00:00:00  23:41:52  2019-08-01 00:00:00   \n",
       "134924       20433.6  2019-07-31 00:00:00  23:26:15  2019-08-01 00:00:00   \n",
       "134925       14889.6  2019-07-31 00:00:00  22:19:08  2019-08-01 00:00:00   \n",
       "\n",
       "         endTime  startLatitude  startLongitude  endLatitude  endLongitude  \\\n",
       "134921  00:05:13      36.154633      -86.798340    36.149220    -86.813980   \n",
       "134922  00:00:28      36.153015      -86.783585    36.152843    -86.779594   \n",
       "134923  00:00:18      36.153687      -86.784580    36.164158    -86.776900   \n",
       "134924  01:48:35      36.155735      -86.775185    36.173904    -86.785450   \n",
       "134925  01:48:33      36.160050      -86.776720    36.163410    -86.782100   \n",
       "\n",
       "                                                tripRoute  \\\n",
       "134921  [[\"36.154631\",\"-86.798341\"],[\"36.154631\",\"-86....   \n",
       "134922  [[\"36.153016\",\"-86.783586\"],[\"36.153016\",\"-86....   \n",
       "134923  [[\"36.153685\",\"-86.784578\"],[\"36.153685\",\"-86....   \n",
       "134924  [[\"36.155736\",\"-86.775181\"],[\"36.155531\",\"-86....   \n",
       "134925  [[\"36.160051\",\"-86.77672\"],[\"36.160051\",\"-86.7...   \n",
       "\n",
       "                         create_dt  \n",
       "134921  2019-08-02 08:21:27.127000  \n",
       "134922  2019-08-02 08:21:26.773000  \n",
       "134923  2019-08-02 08:21:26.803000  \n",
       "134924  2019-08-02 08:24:21.967000  \n",
       "134925         2019-08-02 08:24:22  "
      ]
     },
     "execution_count": 342,
     "metadata": {},
     "output_type": "execute_result"
    }
   ],
   "source": [
    "#Checked when the dataset ends\n",
    "july_trip.tail()"
   ]
  },
  {
   "cell_type": "code",
   "execution_count": 343,
   "metadata": {},
   "outputs": [
    {
     "data": {
      "text/plain": [
       "companyName\n",
       "Bird             2471\n",
       "Bolt Mobility     268\n",
       "Gotcha            103\n",
       "JUMP              409\n",
       "Lime              810\n",
       "Lyft             1012\n",
       "SPIN              512\n",
       "Name: sumdID, dtype: int64"
      ]
     },
     "execution_count": 343,
     "metadata": {},
     "output_type": "execute_result"
    }
   ],
   "source": [
    "#Found out how many unique devices there were by company\n",
    "july_trip.groupby('companyName')['sumdID'].nunique()"
   ]
  },
  {
   "cell_type": "code",
   "execution_count": 344,
   "metadata": {},
   "outputs": [
    {
     "data": {
      "text/plain": [
       "5585"
      ]
     },
     "execution_count": 344,
     "metadata": {},
     "output_type": "execute_result"
    }
   ],
   "source": [
    "#double checking the math\n",
    "july_trip.sumdID.nunique()"
   ]
  },
  {
   "cell_type": "code",
   "execution_count": 345,
   "metadata": {},
   "outputs": [
    {
     "data": {
      "text/plain": [
       "pubdatetime      0\n",
       "latitude         0\n",
       "longitude        0\n",
       "sumdid           0\n",
       "chargelevel    283\n",
       "companyname      0\n",
       "dtype: int64"
      ]
     },
     "execution_count": 345,
     "metadata": {},
     "output_type": "execute_result"
    }
   ],
   "source": [
    "#looking to see what columns have null values\n",
    "may.isnull().sum()"
   ]
  },
  {
   "cell_type": "code",
   "execution_count": 346,
   "metadata": {},
   "outputs": [
    {
     "data": {
      "text/plain": [
       "pubdatetime      0\n",
       "latitude         0\n",
       "longitude        0\n",
       "sumdid           0\n",
       "chargelevel    285\n",
       "companyname      0\n",
       "dtype: int64"
      ]
     },
     "execution_count": 346,
     "metadata": {},
     "output_type": "execute_result"
    }
   ],
   "source": [
    "#looking to see what columns have null values\n",
    "june.isnull().sum()"
   ]
  },
  {
   "cell_type": "code",
   "execution_count": 347,
   "metadata": {},
   "outputs": [
    {
     "data": {
      "text/plain": [
       "pubdatetime      0\n",
       "latitude         0\n",
       "longitude        0\n",
       "sumdid           0\n",
       "chargelevel    202\n",
       "companyname      0\n",
       "dtype: int64"
      ]
     },
     "execution_count": 347,
     "metadata": {},
     "output_type": "execute_result"
    }
   ],
   "source": [
    "#looking to see what columns have null values\n",
    "july.isnull().sum()"
   ]
  },
  {
   "cell_type": "code",
   "execution_count": 348,
   "metadata": {},
   "outputs": [
    {
     "data": {
      "text/plain": [
       "pubTimeStamp      0\n",
       "companyName       0\n",
       "tripRecordNum     0\n",
       "sumdID            0\n",
       "tripDuration      0\n",
       "tripDistance      0\n",
       "startDate         0\n",
       "startTime         0\n",
       "endDate           0\n",
       "endTime           0\n",
       "startLatitude     0\n",
       "startLongitude    0\n",
       "endLatitude       0\n",
       "endLongitude      0\n",
       "tripRoute         0\n",
       "create_dt         0\n",
       "dtype: int64"
      ]
     },
     "execution_count": 348,
     "metadata": {},
     "output_type": "execute_result"
    }
   ],
   "source": [
    "#looking to see what columns have null values\n",
    "may_trip.isnull().sum()"
   ]
  },
  {
   "cell_type": "code",
   "execution_count": 349,
   "metadata": {},
   "outputs": [
    {
     "data": {
      "text/plain": [
       "pubTimeStamp      0\n",
       "companyName       0\n",
       "tripRecordNum     0\n",
       "sumdID            0\n",
       "tripDuration      0\n",
       "tripDistance      0\n",
       "startDate         0\n",
       "startTime         0\n",
       "endDate           0\n",
       "endTime           0\n",
       "startLatitude     0\n",
       "startLongitude    0\n",
       "endLatitude       0\n",
       "endLongitude      0\n",
       "tripRoute         0\n",
       "create_dt         0\n",
       "dtype: int64"
      ]
     },
     "execution_count": 349,
     "metadata": {},
     "output_type": "execute_result"
    }
   ],
   "source": [
    "#looking to see what columns have null values\n",
    "june_trip.isnull().sum()"
   ]
  },
  {
   "cell_type": "code",
   "execution_count": 350,
   "metadata": {},
   "outputs": [
    {
     "data": {
      "text/plain": [
       "pubTimeStamp      0\n",
       "companyName       0\n",
       "tripRecordNum     0\n",
       "sumdID            0\n",
       "tripDuration      0\n",
       "tripDistance      0\n",
       "startDate         0\n",
       "startTime         0\n",
       "endDate           0\n",
       "endTime           0\n",
       "startLatitude     0\n",
       "startLongitude    0\n",
       "endLatitude       0\n",
       "endLongitude      0\n",
       "tripRoute         0\n",
       "create_dt         0\n",
       "dtype: int64"
      ]
     },
     "execution_count": 350,
     "metadata": {},
     "output_type": "execute_result"
    }
   ],
   "source": [
    "#looking to see what columns have null values\n",
    "july_trip.isnull().sum()"
   ]
  },
  {
   "cell_type": "code",
   "execution_count": 351,
   "metadata": {},
   "outputs": [
    {
     "data": {
      "text/plain": [
       "0         2019-07-01 00:02:52.213000\n",
       "1         2019-07-01 00:02:52.213000\n",
       "2         2019-07-01 00:02:52.213000\n",
       "3         2019-07-01 00:02:52.213000\n",
       "4         2019-07-01 00:02:52.213000\n",
       "                     ...            \n",
       "134921           2019-08-01 04:53:48\n",
       "134922           2019-08-01 04:53:48\n",
       "134923           2019-08-01 04:53:48\n",
       "134924           2019-08-01 07:04:00\n",
       "134925           2019-08-01 07:04:00\n",
       "Name: pubTimeStamp, Length: 134926, dtype: object"
      ]
     },
     "execution_count": 351,
     "metadata": {},
     "output_type": "execute_result"
    }
   ],
   "source": [
    "#making sure the columns will read when there's capital letters\n",
    "july_trip.pubTimeStamp"
   ]
  },
  {
   "cell_type": "code",
   "execution_count": 352,
   "metadata": {},
   "outputs": [
    {
     "data": {
      "text/plain": [
       "3    7111655\n",
       "0    4334006\n",
       "1    3112581\n",
       "5    2984630\n",
       "4    1301001\n",
       "2     915314\n",
       "6     524395\n",
       "Name: companyname, dtype: int64"
      ]
     },
     "execution_count": 352,
     "metadata": {},
     "output_type": "execute_result"
    }
   ],
   "source": [
    "#checking which company had the most stationary bikes\n",
    "may.companyname.value_counts()"
   ]
  },
  {
   "cell_type": "code",
   "execution_count": 353,
   "metadata": {},
   "outputs": [
    {
     "data": {
      "text/plain": [
       "5    8482893\n",
       "3    6152504\n",
       "0    4215302\n",
       "1    3084229\n",
       "4    2507991\n",
       "2    1830453\n",
       "6    1764036\n",
       "Name: companyname, dtype: int64"
      ]
     },
     "execution_count": 353,
     "metadata": {},
     "output_type": "execute_result"
    }
   ],
   "source": [
    "#checking which company had the most stationary bikes\n",
    "june.companyname.value_counts()"
   ]
  },
  {
   "cell_type": "code",
   "execution_count": 354,
   "metadata": {},
   "outputs": [
    {
     "data": {
      "text/plain": [
       "5    10367575\n",
       "0     3702282\n",
       "3     3233573\n",
       "1     2890233\n",
       "2     1933513\n",
       "4     1750581\n",
       "6     1188767\n",
       "Name: companyname, dtype: int64"
      ]
     },
     "execution_count": 354,
     "metadata": {},
     "output_type": "execute_result"
    }
   ],
   "source": [
    "#checking which company had the most stationary bikes\n",
    "july.companyname.value_counts()"
   ]
  },
  {
   "cell_type": "code",
   "execution_count": 355,
   "metadata": {},
   "outputs": [
    {
     "data": {
      "text/plain": [
       "Lime             102569\n",
       "Lyft              54271\n",
       "Bird              53496\n",
       "SPIN               8471\n",
       "Bolt Mobility      4912\n",
       "Gotcha              650\n",
       "JUMP                600\n",
       "Name: companyName, dtype: int64"
      ]
     },
     "execution_count": 355,
     "metadata": {},
     "output_type": "execute_result"
    }
   ],
   "source": [
    "#checking which company had the most used bikes\n",
    "may_trip.companyName.value_counts()"
   ]
  },
  {
   "cell_type": "code",
   "execution_count": 356,
   "metadata": {},
   "outputs": [
    {
     "data": {
      "text/plain": [
       "Lime             84728\n",
       "Bird             55014\n",
       "Lyft             37821\n",
       "SPIN             14294\n",
       "Bolt Mobility    10219\n",
       "Gotcha            1803\n",
       "JUMP              1748\n",
       "Name: companyName, dtype: int64"
      ]
     },
     "execution_count": 356,
     "metadata": {},
     "output_type": "execute_result"
    }
   ],
   "source": [
    "#checking which company had the most used bikes\n",
    "june_trip.companyName.value_counts()"
   ]
  },
  {
   "cell_type": "code",
   "execution_count": 357,
   "metadata": {},
   "outputs": [
    {
     "data": {
      "text/plain": [
       "Bird             44235\n",
       "Lime             38397\n",
       "Lyft             28899\n",
       "SPIN             11685\n",
       "Bolt Mobility     6759\n",
       "JUMP              4089\n",
       "Gotcha             862\n",
       "Name: companyName, dtype: int64"
      ]
     },
     "execution_count": 357,
     "metadata": {},
     "output_type": "execute_result"
    }
   ],
   "source": [
    "#checking which company had the most used bikes\n",
    "july_trip.companyName.value_counts()"
   ]
  },
  {
   "cell_type": "code",
   "execution_count": 358,
   "metadata": {
    "scrolled": true
   },
   "outputs": [
    {
     "data": {
      "text/plain": [
       "count    2.028330e+07\n",
       "mean     6.590530e+01\n",
       "std      3.041610e+01\n",
       "min      0.000000e+00\n",
       "25%      4.700000e+01\n",
       "50%      7.200000e+01\n",
       "75%      9.300000e+01\n",
       "max      1.000000e+02\n",
       "Name: chargelevel, dtype: float64"
      ]
     },
     "execution_count": 358,
     "metadata": {},
     "output_type": "execute_result"
    }
   ],
   "source": [
    "#found the descriptive stats for percentage of battery charges\n",
    "may.chargelevel.describe()"
   ]
  },
  {
   "cell_type": "code",
   "execution_count": 359,
   "metadata": {},
   "outputs": [
    {
     "data": {
      "text/plain": [
       "20283582"
      ]
     },
     "execution_count": 359,
     "metadata": {},
     "output_type": "execute_result"
    }
   ],
   "source": [
    "#counted the amount of times a company name came up\n",
    "may.companyname.count()"
   ]
  },
  {
   "cell_type": "code",
   "execution_count": 360,
   "metadata": {},
   "outputs": [
    {
     "data": {
      "text/plain": [
       "(array([1255657.,  197647.,  105727.,  110586.,   66125.,   33620.,\n",
       "          26973.,   18250.,   33895.,   23629.,   29012.,   24823.,\n",
       "          26841.,   18337.,   21678.,   28674.,   28133.,   37634.,\n",
       "          44874.,   38906.,   50640.,   51322.,   61512.,   65498.,\n",
       "          71031.,   75239.,   62816.,   71588.,   56779.,   96515.,\n",
       "          79961.,   87512.,   82597.,  102999.,  101089.,  118605.,\n",
       "         114842.,  120959.,  128414.,  126216.,  148272.,  155088.,\n",
       "         138107.,  169407.,  164345.,  164578.,  166909.,  153375.,\n",
       "         156417.,  170262.,  157692.,  167487.,  175925.,  170677.,\n",
       "         202949.,  172150.,  197167.,  188833.,  206052.,  193131.,\n",
       "         207117.,  180584.,  212146.,  214324.,  212687.,  212470.,\n",
       "         245481.,  252268.,  213763.,  234790.,  230047.,  244327.,\n",
       "         228895.,  232468.,  216999.,  245177.,  227710.,  225722.,\n",
       "         211438.,  225683.,  224729.,  211731.,  218885.,  234110.,\n",
       "         221681.,  243228.,  238349.,  245792.,  273815.,  276907.,\n",
       "         320108.,  280219.,  325016.,  339675.,  374264.,  403067.,\n",
       "         407595.,  393611.,  468611., 2791832.]),\n",
       " array([  0.,   1.,   2.,   3.,   4.,   5.,   6.,   7.,   8.,   9.,  10.,\n",
       "         11.,  12.,  13.,  14.,  15.,  16.,  17.,  18.,  19.,  20.,  21.,\n",
       "         22.,  23.,  24.,  25.,  26.,  27.,  28.,  29.,  30.,  31.,  32.,\n",
       "         33.,  34.,  35.,  36.,  37.,  38.,  39.,  40.,  41.,  42.,  43.,\n",
       "         44.,  45.,  46.,  47.,  48.,  49.,  50.,  51.,  52.,  53.,  54.,\n",
       "         55.,  56.,  57.,  58.,  59.,  60.,  61.,  62.,  63.,  64.,  65.,\n",
       "         66.,  67.,  68.,  69.,  70.,  71.,  72.,  73.,  74.,  75.,  76.,\n",
       "         77.,  78.,  79.,  80.,  81.,  82.,  83.,  84.,  85.,  86.,  87.,\n",
       "         88.,  89.,  90.,  91.,  92.,  93.,  94.,  95.,  96.,  97.,  98.,\n",
       "         99., 100.]),\n",
       " <BarContainer object of 100 artists>)"
      ]
     },
     "execution_count": 360,
     "metadata": {},
     "output_type": "execute_result"
    },
    {
     "data": {
      "image/png": "[encoded data removed]",
      "text/plain": [
       "<Figure size 432x288 with 1 Axes>"
      ]
     },
     "metadata": {
      "needs_background": "light"
     },
     "output_type": "display_data"
    }
   ],
   "source": [
    "#plotted percentage of battery checkins by millions\n",
    "plt.hist(may.chargelevel, bins = 100)"
   ]
  },
  {
   "cell_type": "code",
   "execution_count": 361,
   "metadata": {},
   "outputs": [
    {
     "data": {
      "text/plain": [
       "count    2.803712e+07\n",
       "mean     5.830082e+01\n",
       "std      3.468189e+01\n",
       "min      0.000000e+00\n",
       "25%      3.400000e+01\n",
       "50%      6.600000e+01\n",
       "75%      9.000000e+01\n",
       "max      1.000000e+02\n",
       "Name: chargelevel, dtype: float64"
      ]
     },
     "execution_count": 361,
     "metadata": {},
     "output_type": "execute_result"
    }
   ],
   "source": [
    "#found the descriptive stats for percentage of battery charges\n",
    "june.chargelevel.describe()"
   ]
  },
  {
   "cell_type": "code",
   "execution_count": 362,
   "metadata": {},
   "outputs": [
    {
     "data": {
      "text/plain": [
       "28037408"
      ]
     },
     "execution_count": 362,
     "metadata": {},
     "output_type": "execute_result"
    }
   ],
   "source": [
    "#counted the amount of times a company name came up\n",
    "june.companyname.count()"
   ]
  },
  {
   "cell_type": "code",
   "execution_count": 363,
   "metadata": {},
   "outputs": [
    {
     "data": {
      "text/plain": [
       "(array([2844694., 1015357.,  400520.,  499684.,  254781.,   93056.,\n",
       "          41867.,   15352.,   62432.,   35290.,   54667.,   26651.,\n",
       "          40935.,   27719.,   21000.,   37320.,   30095.,   48888.,\n",
       "          45758.,   46965.,   68123.,   62743.,   88955.,  103424.,\n",
       "          82236.,   95933.,   82256.,   87233.,   66174.,  115313.,\n",
       "         107692.,  108992.,  103143.,  150944.,  121647.,  165584.,\n",
       "         152644.,  155347.,  159433.,  177017.,  227292.,  227246.,\n",
       "         196399.,  252789.,  215398.,  228944.,  215753.,  184815.,\n",
       "         215247.,  217716.,  190388.,  202828.,  239882.,  225710.,\n",
       "         249138.,  201613.,  233836.,  221349.,  233286.,  234189.,\n",
       "         238649.,  211814.,  243859.,  249273.,  270685.,  248510.,\n",
       "         314642.,  309894.,  257310.,  292434.,  300120.,  316377.,\n",
       "         281805.,  288223.,  278368.,  310749.,  283116.,  288397.,\n",
       "         267717.,  298934.,  286045.,  275255.,  269418.,  287205.,\n",
       "         294250.,  314073.,  303140.,  326117.,  360414.,  348542.,\n",
       "         432984.,  356204.,  415611.,  451924.,  506587.,  557321.,\n",
       "         522512.,  483472.,  563027., 2820464.]),\n",
       " array([  0.,   1.,   2.,   3.,   4.,   5.,   6.,   7.,   8.,   9.,  10.,\n",
       "         11.,  12.,  13.,  14.,  15.,  16.,  17.,  18.,  19.,  20.,  21.,\n",
       "         22.,  23.,  24.,  25.,  26.,  27.,  28.,  29.,  30.,  31.,  32.,\n",
       "         33.,  34.,  35.,  36.,  37.,  38.,  39.,  40.,  41.,  42.,  43.,\n",
       "         44.,  45.,  46.,  47.,  48.,  49.,  50.,  51.,  52.,  53.,  54.,\n",
       "         55.,  56.,  57.,  58.,  59.,  60.,  61.,  62.,  63.,  64.,  65.,\n",
       "         66.,  67.,  68.,  69.,  70.,  71.,  72.,  73.,  74.,  75.,  76.,\n",
       "         77.,  78.,  79.,  80.,  81.,  82.,  83.,  84.,  85.,  86.,  87.,\n",
       "         88.,  89.,  90.,  91.,  92.,  93.,  94.,  95.,  96.,  97.,  98.,\n",
       "         99., 100.]),\n",
       " <BarContainer object of 100 artists>)"
      ]
     },
     "execution_count": 363,
     "metadata": {},
     "output_type": "execute_result"
    },
    {
     "data": {
      "image/png": "[encoded data removed]",
      "text/plain": [
       "<Figure size 432x288 with 1 Axes>"
      ]
     },
     "metadata": {
      "needs_background": "light"
     },
     "output_type": "display_data"
    }
   ],
   "source": [
    "#plotted percentage of battery checkins by millions\n",
    "plt.hist(june.chargelevel, bins = 100)"
   ]
  },
  {
   "cell_type": "code",
   "execution_count": 364,
   "metadata": {},
   "outputs": [
    {
     "data": {
      "text/plain": [
       "count    2.506632e+07\n",
       "mean     5.151019e+01\n",
       "std      3.733133e+01\n",
       "min      0.000000e+00\n",
       "25%      3.000000e+00\n",
       "50%      5.900000e+01\n",
       "75%      8.700000e+01\n",
       "max      1.000000e+02\n",
       "Name: chargelevel, dtype: float64"
      ]
     },
     "execution_count": 364,
     "metadata": {},
     "output_type": "execute_result"
    }
   ],
   "source": [
    "#found the descriptive stats for percentage of battery charges\n",
    "july.chargelevel.describe()"
   ]
  },
  {
   "cell_type": "code",
   "execution_count": 365,
   "metadata": {},
   "outputs": [
    {
     "data": {
      "text/plain": [
       "25066524"
      ]
     },
     "execution_count": 365,
     "metadata": {},
     "output_type": "execute_result"
    }
   ],
   "source": [
    "#counted the amount of times a company name came up\n",
    "july.companyname.count()"
   ]
  },
  {
   "cell_type": "code",
   "execution_count": 366,
   "metadata": {},
   "outputs": [
    {
     "data": {
      "text/plain": [
       "(array([3883367., 1407919.,  517373.,  678317.,  283560.,  123404.,\n",
       "          58007.,   17167.,   48584.,   46813.,   44941.,   14625.,\n",
       "          39520.,   12841.,   12558.,   40438.,   22452.,   53425.,\n",
       "          39799.,   41334.,   63762.,   44333.,   81169.,   88069.,\n",
       "          65104.,   71079.,   60216.,   64115.,   52403.,   79913.,\n",
       "          96258.,   84643.,   80641.,  118016.,   88089.,  135510.,\n",
       "         116839.,  122662.,  123224.,  145467.,  186599.,  184828.,\n",
       "         151439.,  208691.,  160497.,  187056.,  162307.,  155357.,\n",
       "         191752.,  182123.,  155411.,  154462.,  179994.,  175623.,\n",
       "         207084.,  144202.,  185859.,  151716.,  169312.,  175766.,\n",
       "         174800.,  165452.,  179615.,  193259.,  206216.,  174957.,\n",
       "         245559.,  229719.,  203182.,  231086.,  255896.,  250944.,\n",
       "         227285.,  239960.,  217427.,  251203.,  230620.,  246080.,\n",
       "         225727.,  261935.,  258753.,  239797.,  235210.,  243042.,\n",
       "         262840.,  262941.,  246678.,  264536.,  293436.,  294262.,\n",
       "         353260.,  282136.,  315404.,  349980.,  369930.,  434810.,\n",
       "         382870.,  362827.,  424449., 2140205.]),\n",
       " array([  0.,   1.,   2.,   3.,   4.,   5.,   6.,   7.,   8.,   9.,  10.,\n",
       "         11.,  12.,  13.,  14.,  15.,  16.,  17.,  18.,  19.,  20.,  21.,\n",
       "         22.,  23.,  24.,  25.,  26.,  27.,  28.,  29.,  30.,  31.,  32.,\n",
       "         33.,  34.,  35.,  36.,  37.,  38.,  39.,  40.,  41.,  42.,  43.,\n",
       "         44.,  45.,  46.,  47.,  48.,  49.,  50.,  51.,  52.,  53.,  54.,\n",
       "         55.,  56.,  57.,  58.,  59.,  60.,  61.,  62.,  63.,  64.,  65.,\n",
       "         66.,  67.,  68.,  69.,  70.,  71.,  72.,  73.,  74.,  75.,  76.,\n",
       "         77.,  78.,  79.,  80.,  81.,  82.,  83.,  84.,  85.,  86.,  87.,\n",
       "         88.,  89.,  90.,  91.,  92.,  93.,  94.,  95.,  96.,  97.,  98.,\n",
       "         99., 100.]),\n",
       " <BarContainer object of 100 artists>)"
      ]
     },
     "execution_count": 366,
     "metadata": {},
     "output_type": "execute_result"
    },
    {
     "data": {
      "image/png": "[encoded data removed]",
      "text/plain": [
       "<Figure size 432x288 with 1 Axes>"
      ]
     },
     "metadata": {
      "needs_background": "light"
     },
     "output_type": "display_data"
    }
   ],
   "source": [
    "#plotted percentage of battery checkins by millions\n",
    "plt.hist(july.chargelevel, bins = 100)"
   ]
  },
  {
   "cell_type": "markdown",
   "metadata": {},
   "source": [
    "## Started Analysis"
   ]
  },
  {
   "cell_type": "code",
   "execution_count": 367,
   "metadata": {},
   "outputs": [],
   "source": [
    "#counting how many scooters were out by company\n",
    "may_scooter_counts = may.groupby('companyname')['sumdid'].nunique()"
   ]
  },
  {
   "cell_type": "code",
   "execution_count": 368,
   "metadata": {},
   "outputs": [],
   "source": [
    "#counting how many scooters were out by company\n",
    "june_scooter_counts = june.groupby('companyname')['sumdid'].nunique()"
   ]
  },
  {
   "cell_type": "code",
   "execution_count": 369,
   "metadata": {},
   "outputs": [],
   "source": [
    "#counting how many scooters were out by company\n",
    "july_scooter_counts = july.groupby('companyname')['sumdid'].nunique()"
   ]
  },
  {
   "cell_type": "code",
   "execution_count": 370,
   "metadata": {},
   "outputs": [
    {
     "data": {
      "text/plain": [
       "companyname\n",
       "0    3064\n",
       "3    1631\n",
       "1    1376\n",
       "5     976\n",
       "4     687\n",
       "6     346\n",
       "2     223\n",
       "Name: sumdid, dtype: int64"
      ]
     },
     "execution_count": 370,
     "metadata": {},
     "output_type": "execute_result"
    }
   ],
   "source": [
    "#showing how many scooters were out in descending order\n",
    "may_scooter_counts.sort_values(ascending = False)"
   ]
  },
  {
   "cell_type": "code",
   "execution_count": 371,
   "metadata": {},
   "outputs": [
    {
     "data": {
      "text/plain": [
       "companyname\n",
       "0    2910\n",
       "3    1455\n",
       "1    1152\n",
       "5    1036\n",
       "4     713\n",
       "6     333\n",
       "2     223\n",
       "Name: sumdid, dtype: int64"
      ]
     },
     "execution_count": 371,
     "metadata": {},
     "output_type": "execute_result"
    }
   ],
   "source": [
    "#showing how many bikes were out in descending order\n",
    "june_scooter_counts.sort_values(ascending = False)"
   ]
  },
  {
   "cell_type": "code",
   "execution_count": 372,
   "metadata": {},
   "outputs": [
    {
     "data": {
      "text/plain": [
       "companyname\n",
       "0    2583\n",
       "5    1206\n",
       "1    1026\n",
       "3     902\n",
       "4     570\n",
       "6     276\n",
       "2     224\n",
       "Name: sumdid, dtype: int64"
      ]
     },
     "execution_count": 372,
     "metadata": {},
     "output_type": "execute_result"
    }
   ],
   "source": [
    "#showing how many bikes were out in descending order\n",
    "july_scooter_counts.sort_values(ascending = False)"
   ]
  },
  {
   "cell_type": "code",
   "execution_count": 373,
   "metadata": {},
   "outputs": [
    {
     "data": {
      "text/plain": [
       "companyname\n",
       "0.0    3064\n",
       "0.0    3064\n",
       "0.0    3064\n",
       "0.0    3064\n",
       "0.0    3064\n",
       "       ... \n",
       "0.0    3064\n",
       "6.0     346\n",
       "0.0    3064\n",
       "0.0    3064\n",
       "6.0     346\n",
       "Name: sumdid, Length: 1560109, dtype: int64"
      ]
     },
     "execution_count": 373,
     "metadata": {},
     "output_type": "execute_result"
    }
   ],
   "source": [
    "#experimenting\n",
    "may_scooter_counts.filter(may['chargelevel'])"
   ]
  },
  {
   "cell_type": "code",
   "execution_count": 374,
   "metadata": {},
   "outputs": [
    {
     "data": {
      "text/plain": [
       "3    7111655\n",
       "0    4334006\n",
       "1    3112581\n",
       "5    2984630\n",
       "4    1301001\n",
       "2     915314\n",
       "6     524395\n",
       "Name: companyname, dtype: int64"
      ]
     },
     "execution_count": 374,
     "metadata": {},
     "output_type": "execute_result"
    }
   ],
   "source": [
    "#experimenting\n",
    "may['companyname'].value_counts()"
   ]
  },
  {
   "cell_type": "code",
   "execution_count": 375,
   "metadata": {},
   "outputs": [],
   "source": [
    "#getting the charge by company for may\n",
    "may_scooter_charge = may.groupby('companyname')['chargelevel'].nunique()"
   ]
  },
  {
   "cell_type": "code",
   "execution_count": 376,
   "metadata": {},
   "outputs": [
    {
     "data": {
      "text/plain": [
       "companyname\n",
       "0     81\n",
       "1     86\n",
       "2     96\n",
       "3    101\n",
       "4    101\n",
       "5    200\n",
       "6    699\n",
       "Name: chargelevel, dtype: int64"
      ]
     },
     "execution_count": 376,
     "metadata": {},
     "output_type": "execute_result"
    }
   ],
   "source": [
    "#checking the charge by company for may\n",
    "may_scooter_charge"
   ]
  },
  {
   "cell_type": "code",
   "execution_count": 377,
   "metadata": {},
   "outputs": [],
   "source": [
    "#getting the mean charge by company for may\n",
    "may_scooter_mean = may.groupby('companyname')['chargelevel'].mean()"
   ]
  },
  {
   "cell_type": "code",
   "execution_count": 378,
   "metadata": {},
   "outputs": [
    {
     "data": {
      "text/plain": [
       "companyname\n",
       "4    80.005576\n",
       "0    75.929047\n",
       "6    72.932402\n",
       "3    71.003098\n",
       "1    68.298269\n",
       "2    56.573660\n",
       "5    32.189535\n",
       "Name: chargelevel, dtype: float64"
      ]
     },
     "execution_count": 378,
     "metadata": {},
     "output_type": "execute_result"
    }
   ],
   "source": [
    "#checking the mean charge by company for may\n",
    "may_scooter_mean.sort_values(ascending = False)"
   ]
  },
  {
   "cell_type": "markdown",
   "metadata": {},
   "source": [
    "## Trying out different charts"
   ]
  },
  {
   "cell_type": "code",
   "execution_count": 379,
   "metadata": {},
   "outputs": [
    {
     "data": {
      "text/plain": [
       "(array([1., 0., 0., 0., 0., 0., 0., 1., 0., 0., 0., 1., 2., 1., 1.]),\n",
       " array([32.18953458, 35.37727068, 38.56500679, 41.75274289, 44.940479  ,\n",
       "        48.1282151 , 51.31595121, 54.50368731, 57.69142342, 60.87915952,\n",
       "        64.06689563, 67.25463173, 70.44236784, 73.63010394, 76.81784005,\n",
       "        80.00557615]),\n",
       " <BarContainer object of 15 artists>)"
      ]
     },
     "execution_count": 379,
     "metadata": {},
     "output_type": "execute_result"
    },
    {
     "data": {
      "image/png": "[encoded data removed]",
      "text/plain": [
       "<Figure size 432x288 with 1 Axes>"
      ]
     },
     "metadata": {
      "needs_background": "light"
     },
     "output_type": "display_data"
    }
   ],
   "source": [
    "#histogram chart for mean may scooter charge\n",
    "plt.hist(may_scooter_mean, bins = 15)"
   ]
  },
  {
   "cell_type": "code",
   "execution_count": 380,
   "metadata": {},
   "outputs": [
    {
     "data": {
      "text/plain": [
       "<matplotlib.collections.PathCollection at 0x1e77263a0d0>"
      ]
     },
     "execution_count": 380,
     "metadata": {},
     "output_type": "execute_result"
    },
    {
     "data": {
      "image/png": "[encoded data removed]",
      "text/plain": [
       "<Figure size 432x288 with 1 Axes>"
      ]
     },
     "metadata": {
      "needs_background": "light"
     },
     "output_type": "display_data"
    }
   ],
   "source": [
    "#scatter chart for mean may scooter charge\n",
    "plt.scatter(may_scooter_charge, may_scooter_mean)"
   ]
  },
  {
   "cell_type": "code",
   "execution_count": 381,
   "metadata": {},
   "outputs": [
    {
     "data": {
      "text/plain": [
       "[<matplotlib.lines.Line2D at 0x1e772688190>]"
      ]
     },
     "execution_count": 381,
     "metadata": {},
     "output_type": "execute_result"
    },
    {
     "data": {
      "image/png": "[encoded data removed]",
      "text/plain": [
       "<Figure size 432x288 with 1 Axes>"
      ]
     },
     "metadata": {
      "needs_background": "light"
     },
     "output_type": "display_data"
    }
   ],
   "source": [
    "#line chart for mean may scooter charge\n",
    "plt.plot(may_scooter_mean)"
   ]
  },
  {
   "cell_type": "markdown",
   "metadata": {},
   "source": [
    "## Limiting charge by individual companies"
   ]
  },
  {
   "cell_type": "code",
   "execution_count": 382,
   "metadata": {},
   "outputs": [],
   "source": [
    "#charge level for the month of may\n",
    "may_scooter_charge = may.groupby('companyname')['chargelevel'].nunique()"
   ]
  },
  {
   "cell_type": "code",
   "execution_count": 383,
   "metadata": {},
   "outputs": [],
   "source": [
    "#may charge level bird\n",
    "bird_charge_may = may.loc[may['companyname'] == 0]"
   ]
  },
  {
   "cell_type": "code",
   "execution_count": 384,
   "metadata": {},
   "outputs": [],
   "source": [
    "#may charge level bird\n",
    "lyft_charge_may = may.loc[may['companyname'] == 1]"
   ]
  },
  {
   "cell_type": "code",
   "execution_count": 385,
   "metadata": {},
   "outputs": [],
   "source": [
    "#may charge level bird\n",
    "gotcha_charge_may = may.loc[may['companyname'] == 2]"
   ]
  },
  {
   "cell_type": "code",
   "execution_count": 386,
   "metadata": {},
   "outputs": [],
   "source": [
    "#may charge level bird\n",
    "lime_charge_may = may.loc[may['companyname'] == 3]"
   ]
  },
  {
   "cell_type": "code",
   "execution_count": 387,
   "metadata": {},
   "outputs": [],
   "source": [
    "#may charge level bird\n",
    "spin_charge_may = may.loc[may['companyname'] == 4]"
   ]
  },
  {
   "cell_type": "code",
   "execution_count": 388,
   "metadata": {},
   "outputs": [],
   "source": [
    "#may charge level bird\n",
    "jump_charge_may = may.loc[may['companyname'] == 5]"
   ]
  },
  {
   "cell_type": "code",
   "execution_count": 389,
   "metadata": {},
   "outputs": [],
   "source": [
    "#may charge level bird\n",
    "bolt_charge_may = may.loc[may['companyname'] == 6]"
   ]
  },
  {
   "cell_type": "code",
   "execution_count": 391,
   "metadata": {},
   "outputs": [
    {
     "data": {
      "text/plain": [
       "<matplotlib.legend.Legend at 0x1e76e717340>"
      ]
     },
     "execution_count": 391,
     "metadata": {},
     "output_type": "execute_result"
    },
    {
     "data": {
      "image/png": "[encoded data removed]",
      "text/plain": [
       "<Figure size 432x288 with 1 Axes>"
      ]
     },
     "metadata": {
      "needs_background": "light"
     },
     "output_type": "display_data"
    }
   ],
   "source": [
    "#combined histogram chart for may companies\n",
    "legend1 = {'Bird':'0', 'Lyft':'1', 'Gotcha':'2', 'Lime':'3', 'Spin':'4', 'Jump':'5', 'Bolt':'6'}\n",
    "plt.hist(bird_charge_may['chargelevel'], bins = 25, alpha = 0.5)\n",
    "plt.hist(lyft_charge_may['chargelevel'], bins = 25, alpha = 0.5)\n",
    "plt.hist(gotcha_charge_may['chargelevel'], bins = 25, alpha = 0.5)\n",
    "plt.hist(lime_charge_may['chargelevel'], bins = 25, alpha = 0.5)\n",
    "plt.hist(spin_charge_may['chargelevel'], bins = 25, alpha = 0.5)\n",
    "plt.hist(jump_charge_may['chargelevel'], bins = 25, alpha = 0.5)\n",
    "plt.hist(bolt_charge_may['chargelevel'], bins = 25, alpha = 0.5)\n",
    "plt.title('May Charge Level')\n",
    "plt.legend(legend1)"
   ]
  },
  {
   "cell_type": "code",
   "execution_count": 392,
   "metadata": {},
   "outputs": [],
   "source": [
    "#june charge level bird\n",
    "bird_charge_june = june.loc[june['companyname'] == 0]"
   ]
  },
  {
   "cell_type": "code",
   "execution_count": 393,
   "metadata": {},
   "outputs": [],
   "source": [
    "#june charge level lyft\n",
    "lyft_charge_june = june.loc[june['companyname'] == 1]"
   ]
  },
  {
   "cell_type": "code",
   "execution_count": 394,
   "metadata": {},
   "outputs": [],
   "source": [
    "#june charge level gotcha\n",
    "gotcha_charge_june = june.loc[june['companyname'] == 2]"
   ]
  },
  {
   "cell_type": "code",
   "execution_count": 395,
   "metadata": {},
   "outputs": [],
   "source": [
    "#june charge level lime\n",
    "lime_charge_june = june.loc[june['companyname'] == 3]"
   ]
  },
  {
   "cell_type": "code",
   "execution_count": 396,
   "metadata": {},
   "outputs": [],
   "source": [
    "#june charge level spin\n",
    "spin_charge_june = june.loc[june['companyname'] == 4]"
   ]
  },
  {
   "cell_type": "code",
   "execution_count": 397,
   "metadata": {},
   "outputs": [],
   "source": [
    "#june charge level jump\n",
    "jump_charge_june = june.loc[june['companyname'] == 5]"
   ]
  },
  {
   "cell_type": "code",
   "execution_count": 398,
   "metadata": {},
   "outputs": [],
   "source": [
    "#june charge level bolt\n",
    "bolt_charge_june = june.loc[june['companyname'] == 6]"
   ]
  },
  {
   "cell_type": "code",
   "execution_count": 399,
   "metadata": {},
   "outputs": [
    {
     "data": {
      "text/plain": [
       "<matplotlib.legend.Legend at 0x1e901366d60>"
      ]
     },
     "execution_count": 399,
     "metadata": {},
     "output_type": "execute_result"
    },
    {
     "data": {
      "image/png": "[encoded data removed]",
      "text/plain": [
       "<Figure size 432x288 with 1 Axes>"
      ]
     },
     "metadata": {
      "needs_background": "light"
     },
     "output_type": "display_data"
    }
   ],
   "source": [
    "#combined histogram chart for june companies\n",
    "legend1 = {'Bird':'0', 'Lyft':'1', 'Gotcha':'2', 'Lime':'3', 'Spin':'4', 'Jump':'5', 'Bolt':'6'}\n",
    "plt.hist(bird_charge_june['chargelevel'], bins = 25, alpha = 0.5)\n",
    "plt.hist(lyft_charge_june['chargelevel'], bins = 25, alpha = 0.5)\n",
    "plt.hist(gotcha_charge_june['chargelevel'], bins = 25, alpha = 0.5)\n",
    "plt.hist(lime_charge_june['chargelevel'], bins = 25, alpha = 0.5)\n",
    "plt.hist(spin_charge_june['chargelevel'], bins = 25, alpha = 0.5)\n",
    "plt.hist(jump_charge_june['chargelevel'], bins = 25, alpha = 0.5)\n",
    "plt.hist(bolt_charge_june['chargelevel'], bins = 25, alpha = 0.5)\n",
    "plt.title('June Charge Level')\n",
    "plt.legend(legend1)"
   ]
  },
  {
   "cell_type": "code",
   "execution_count": 400,
   "metadata": {},
   "outputs": [],
   "source": [
    "#july charge level bird\n",
    "bird_charge_july = july.loc[july['companyname'] == 0]"
   ]
  },
  {
   "cell_type": "code",
   "execution_count": 401,
   "metadata": {},
   "outputs": [],
   "source": [
    "#july charge level bird\n",
    "lyft_charge_july = july.loc[july['companyname'] == 1]"
   ]
  },
  {
   "cell_type": "code",
   "execution_count": 402,
   "metadata": {},
   "outputs": [],
   "source": [
    "#july charge level bird\n",
    "gotcha_charge_july = july.loc[july['companyname'] == 2]"
   ]
  },
  {
   "cell_type": "code",
   "execution_count": 403,
   "metadata": {},
   "outputs": [],
   "source": [
    "#july charge level bird\n",
    "lime_charge_july = july.loc[july['companyname'] == 3]"
   ]
  },
  {
   "cell_type": "code",
   "execution_count": 404,
   "metadata": {},
   "outputs": [],
   "source": [
    "#july charge level bird\n",
    "spin_charge_july = july.loc[july['companyname'] == 4]"
   ]
  },
  {
   "cell_type": "code",
   "execution_count": 405,
   "metadata": {},
   "outputs": [],
   "source": [
    "#july charge level bird\n",
    "jump_charge_july = july.loc[july['companyname'] == 5]"
   ]
  },
  {
   "cell_type": "code",
   "execution_count": 406,
   "metadata": {},
   "outputs": [],
   "source": [
    "#july charge level bird\n",
    "bolt_charge_july = july.loc[july['companyname'] == 6]"
   ]
  },
  {
   "cell_type": "code",
   "execution_count": 482,
   "metadata": {
    "scrolled": false
   },
   "outputs": [
    {
     "data": {
      "image/png": "[encoded data removed]",
      "text/plain": [
       "<Figure size 1440x1080 with 7 Axes>"
      ]
     },
     "metadata": {
      "needs_background": "light"
     },
     "output_type": "display_data"
    }
   ],
   "source": [
    "#separate histogram chart for july companies\n",
    "f, (ax1, ax2, ax3, ax4, ax5, ax6, ax7) = plt.subplots(figsize = (20, 15), nrows = 1, ncols = 7,sharey = True, sharex = True)\n",
    "f.suptitle('May Charge Level')\n",
    "ax1.hist(bird_charge_may['chargelevel'], color = '#FFC027', weights = np.ones(len(bird_charge_may['chargelevel']))/len(bird_charge_may['chargelevel']), bins = 25)\n",
    "ax2.hist(lyft_charge_may['chargelevel'], color = '#FFC027', weights = np.ones(len(lyft_charge_may['chargelevel']))/len(lyft_charge_may['chargelevel']), bins = 25)\n",
    "ax3.hist(gotcha_charge_may['chargelevel'], color = '#FFC027', weights = np.ones(len(gotcha_charge_may['chargelevel']))/len(gotcha_charge_may['chargelevel']), bins = 25)\n",
    "ax4.hist(lime_charge_may['chargelevel'], color = '#FFC027', weights = np.ones(len(lime_charge_may['chargelevel']))/len(lime_charge_may['chargelevel']), bins = 25)\n",
    "ax5.hist(spin_charge_may['chargelevel'], color = '#FFC027', weights = np.ones(len(spin_charge_may['chargelevel']))/len(spin_charge_may['chargelevel']), bins = 25)\n",
    "ax6.hist(jump_charge_may['chargelevel'], color = '#FFC027', weights = np.ones(len(jump_charge_may['chargelevel']))/len(jump_charge_may['chargelevel']), bins = 25)\n",
    "ax7.hist(bolt_charge_may['chargelevel'], color = '#FFC027', weights = np.ones(len(bolt_charge_may['chargelevel']))/len(bolt_charge_may['chargelevel']), bins = 25)\n",
    "ax1.title.set_text('Bird')\n",
    "ax2.title.set_text('Lyft')\n",
    "ax3.title.set_text('Gotcha')\n",
    "ax4.title.set_text('Lime')\n",
    "ax5.title.set_text('Spin')\n",
    "ax6.title.set_text('Jump')\n",
    "ax7.title.set_text('Bolt')\n",
    "plt.gca().yaxis.set_major_formatter(PercentFormatter(1))\n",
    "#plt.ylabel('Percent of Total Scooters')\n",
    "#plt.xlabel('Battery Level Percent')\n",
    "plt.rcParams.update({'font.size': 30})\n",
    "f.text(0.5, -.03, 'Battery Level Percent', ha='center')\n",
    "f.text(-.03, 0.5,'Percent of Total Scooters', va='center', rotation='vertical')\n",
    "f.tight_layout();"
   ]
  },
  {
   "cell_type": "code",
   "execution_count": 481,
   "metadata": {
    "scrolled": false
   },
   "outputs": [
    {
     "data": {
      "image/png": "[encoded data removed]",
      "text/plain": [
       "<Figure size 1440x1080 with 7 Axes>"
      ]
     },
     "metadata": {
      "needs_background": "light"
     },
     "output_type": "display_data"
    }
   ],
   "source": [
    "#separate histogram chart for july companies\n",
    "f, (ax1, ax2, ax3, ax4, ax5, ax6, ax7) = plt.subplots(figsize = (20, 15), nrows = 1, ncols = 7,sharey = True, sharex = True)\n",
    "f.suptitle('June Charge Level')\n",
    "ax1.hist(bird_charge_june['chargelevel'], color = '#1F375D', weights = np.ones(len(bird_charge_june['chargelevel']))/len(bird_charge_june['chargelevel']), bins = 25)\n",
    "ax2.hist(lyft_charge_june['chargelevel'], color = '#1F375D', weights = np.ones(len(lyft_charge_june['chargelevel']))/len(lyft_charge_june['chargelevel']), bins = 25)\n",
    "ax3.hist(gotcha_charge_june['chargelevel'], color = '#1F375D', weights = np.ones(len(gotcha_charge_june['chargelevel']))/len(gotcha_charge_june['chargelevel']), bins = 25)\n",
    "ax4.hist(lime_charge_june['chargelevel'], color = '#1F375D', weights = np.ones(len(lime_charge_june['chargelevel']))/len(lime_charge_june['chargelevel']), bins = 25)\n",
    "ax5.hist(spin_charge_june['chargelevel'], color = '#1F375D', weights = np.ones(len(spin_charge_june['chargelevel']))/len(spin_charge_june['chargelevel']), bins = 25)\n",
    "ax6.hist(jump_charge_june['chargelevel'], color = '#1F375D', weights = np.ones(len(jump_charge_june['chargelevel']))/len(jump_charge_june['chargelevel']), bins = 25)\n",
    "ax7.hist(bolt_charge_june['chargelevel'], color = '#1F375D', weights = np.ones(len(bolt_charge_june['chargelevel']))/len(bolt_charge_june['chargelevel']), bins = 25)\n",
    "ax1.title.set_text('Bird')\n",
    "ax2.title.set_text('Lyft')\n",
    "ax3.title.set_text('Gotcha')\n",
    "ax4.title.set_text('Lime')\n",
    "ax5.title.set_text('Spin')\n",
    "ax6.title.set_text('Jump')\n",
    "ax7.title.set_text('Bolt')\n",
    "plt.gca().yaxis.set_major_formatter(PercentFormatter(1))\n",
    "#plt.ylabel('Percent of Total Scooters')\n",
    "#plt.xlabel('Battery Level Percent')\n",
    "plt.rcParams.update({'font.size': 30})\n",
    "f.text(0.5, -.03, 'Battery Level Percent', ha='center')\n",
    "f.text(-.03, 0.5,'Percent of Total Scooters', va='center', rotation='vertical')\n",
    "f.tight_layout();"
   ]
  },
  {
   "cell_type": "code",
   "execution_count": 483,
   "metadata": {
    "scrolled": false
   },
   "outputs": [
    {
     "data": {
      "image/png": "[encoded data removed]",
      "text/plain": [
       "<Figure size 1440x1080 with 7 Axes>"
      ]
     },
     "metadata": {
      "needs_background": "light"
     },
     "output_type": "display_data"
    }
   ],
   "source": [
    "#separate histogram chart for july companies\n",
    "f, (ax1, ax2, ax3, ax4, ax5, ax6, ax7) = plt.subplots(figsize = (20, 15), nrows = 1, ncols = 7,sharey = True, sharex = True)\n",
    "f.suptitle('July Charge Level')\n",
    "ax1.hist(bird_charge_july['chargelevel'], color = '#898D8E', weights = np.ones(len(bird_charge_july['chargelevel']))/len(bird_charge_july['chargelevel']), bins = 25)\n",
    "ax2.hist(lyft_charge_july['chargelevel'], color = '#898D8E', weights = np.ones(len(lyft_charge_july['chargelevel']))/len(lyft_charge_july['chargelevel']), bins = 25)\n",
    "ax3.hist(gotcha_charge_july['chargelevel'], color = '#898D8E', weights = np.ones(len(gotcha_charge_july['chargelevel']))/len(gotcha_charge_july['chargelevel']), bins = 25)\n",
    "ax4.hist(lime_charge_july['chargelevel'], color = '#898D8E', weights = np.ones(len(lime_charge_july['chargelevel']))/len(lime_charge_july['chargelevel']), bins = 25)\n",
    "ax5.hist(spin_charge_july['chargelevel'], color = '#898D8E', weights = np.ones(len(spin_charge_july['chargelevel']))/len(spin_charge_july['chargelevel']), bins = 25)\n",
    "ax6.hist(jump_charge_july['chargelevel'], color = '#898D8E', weights = np.ones(len(jump_charge_july['chargelevel']))/len(jump_charge_july['chargelevel']), bins = 25)\n",
    "ax7.hist(bolt_charge_july['chargelevel'], color = '#898D8E', weights = np.ones(len(bolt_charge_july['chargelevel']))/len(bolt_charge_july['chargelevel']), bins = 25)\n",
    "ax1.title.set_text('Bird')\n",
    "ax2.title.set_text('Lyft')\n",
    "ax3.title.set_text('Gotcha')\n",
    "ax4.title.set_text('Lime')\n",
    "ax5.title.set_text('Spin')\n",
    "ax6.title.set_text('Jump')\n",
    "ax7.title.set_text('Bolt')\n",
    "plt.gca().yaxis.set_major_formatter(PercentFormatter(1))\n",
    "#plt.ylabel('Percent of Total Scooters')\n",
    "#plt.xlabel('Battery Level Percent')\n",
    "plt.rcParams.update({'font.size': 30})\n",
    "f.text(0.5, -.03, 'Battery Level Percent', ha='center')\n",
    "f.text(-.03, 0.5,'Percent of Total Scooters', va='center', rotation='vertical')\n",
    "f.tight_layout();"
   ]
  },
  {
   "cell_type": "markdown",
   "metadata": {},
   "source": [
    "## Jump was the only company to increase scooter counts over the three months"
   ]
  },
  {
   "cell_type": "code",
   "execution_count": null,
   "metadata": {},
   "outputs": [],
   "source": [
    "axis_font = {'fontname':'Arial', 'size':'40'}\n",
    "title_font = {'fontname':'Arial', 'size':'50'}\n",
    "plt.xticks(index, ['Bird', 'Lyft', 'Gotcha', 'Lime', 'Spin', 'Jump', 'Bolt'],**axis_font)\n",
    "plt.tick_params(labelsize=35)\n",
    "plt.ylabel('Scooter Count', **title_font)\n",
    "plt.title('Scooter Count by Month', **title_font)\n",
    "plt.legend(prop={'size': 40})\n"
   ]
  }
 ],
 "metadata": {
  "kernelspec": {
   "display_name": "Python 3",
   "language": "python",
   "name": "python3"
  },
  "language_info": {
   "codemirror_mode": {
    "name": "ipython",
    "version": 3
   },
   "file_extension": ".py",
   "mimetype": "text/x-python",
   "name": "python",
   "nbconvert_exporter": "python",
   "pygments_lexer": "ipython3",
   "version": "3.8.5"
  }
 },
 "nbformat": 4,
 "nbformat_minor": 4
}
