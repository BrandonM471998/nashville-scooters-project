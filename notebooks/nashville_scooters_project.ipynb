{
 "cells": [
  {
   "cell_type": "markdown",
   "metadata": {},
   "source": [
    "## Importing All Packages Needed for the Project"
   ]
  },
  {
   "cell_type": "code",
   "execution_count": 2,
   "metadata": {},
   "outputs": [],
   "source": [
    "import pandas as pd\n",
    "import matplotlib.pyplot as plt\n",
    "import seaborn as sns\n",
    "import numpy as np\n",
    "from matplotlib.ticker import PercentFormatter"
   ]
  },
  {
   "cell_type": "markdown",
   "metadata": {},
   "source": [
    "## Reading In All of the Files for the Project"
   ]
  },
  {
   "cell_type": "code",
   "execution_count": 3,
   "metadata": {},
   "outputs": [],
   "source": [
    "may = pd.read_pickle('../data/may.pkl')\n",
    "june = pd.read_pickle('../data/june.pkl')\n",
    "july = pd.read_pickle('../data/july.pkl')\n",
    "may_trip = pd.read_csv('../data/may_trip.csv')\n",
    "june_trip = pd.read_csv('../data/june_trip.csv')\n",
    "july_trip = pd.read_csv('../data/july_trip.csv')"
   ]
  },
  {
   "cell_type": "markdown",
   "metadata": {},
   "source": [
    "## company_dict = {'Bird':0, 'Lyft': 1, 'Gotcha': 2, 'Lime': 3, 'Spin': 4, 'Jump': 5, 'Bolt': 6}\n",
    "## Trip Duration Is in Minutes"
   ]
  },
  {
   "cell_type": "markdown",
   "metadata": {},
   "source": [
    "## Exploring the Data"
   ]
  },
  {
   "cell_type": "code",
   "execution_count": 4,
   "metadata": {},
   "outputs": [
    {
     "name": "stdout",
     "output_type": "stream",
     "text": [
      "<class 'pandas.core.frame.DataFrame'>\n",
      "RangeIndex: 20283582 entries, 0 to 20283581\n",
      "Data columns (total 6 columns):\n",
      " #   Column       Dtype         \n",
      "---  ------       -----         \n",
      " 0   pubdatetime  datetime64[ns]\n",
      " 1   latitude     float64       \n",
      " 2   longitude    float64       \n",
      " 3   sumdid       object        \n",
      " 4   chargelevel  float64       \n",
      " 5   companyname  int64         \n",
      "dtypes: datetime64[ns](1), float64(3), int64(1), object(1)\n",
      "memory usage: 928.5+ MB\n"
     ]
    }
   ],
   "source": [
    "#Checking the datatypes of each dataset\n",
    "may.info()"
   ]
  },
  {
   "cell_type": "code",
   "execution_count": 5,
   "metadata": {},
   "outputs": [
    {
     "name": "stdout",
     "output_type": "stream",
     "text": [
      "<class 'pandas.core.frame.DataFrame'>\n",
      "RangeIndex: 28037408 entries, 0 to 28037407\n",
      "Data columns (total 6 columns):\n",
      " #   Column       Dtype         \n",
      "---  ------       -----         \n",
      " 0   pubdatetime  datetime64[ns]\n",
      " 1   latitude     float64       \n",
      " 2   longitude    float64       \n",
      " 3   sumdid       object        \n",
      " 4   chargelevel  float64       \n",
      " 5   companyname  int64         \n",
      "dtypes: datetime64[ns](1), float64(3), int64(1), object(1)\n",
      "memory usage: 1.3+ GB\n"
     ]
    }
   ],
   "source": [
    "#Checking the datatypes of each dataset\n",
    "june.info()"
   ]
  },
  {
   "cell_type": "code",
   "execution_count": 6,
   "metadata": {},
   "outputs": [
    {
     "name": "stdout",
     "output_type": "stream",
     "text": [
      "<class 'pandas.core.frame.DataFrame'>\n",
      "Int64Index: 25066524 entries, 0 to 25075444\n",
      "Data columns (total 6 columns):\n",
      " #   Column       Dtype         \n",
      "---  ------       -----         \n",
      " 0   pubdatetime  datetime64[ns]\n",
      " 1   latitude     float64       \n",
      " 2   longitude    float64       \n",
      " 3   sumdid       object        \n",
      " 4   chargelevel  float64       \n",
      " 5   companyname  int64         \n",
      "dtypes: datetime64[ns](1), float64(3), int64(1), object(1)\n",
      "memory usage: 1.3+ GB\n"
     ]
    }
   ],
   "source": [
    "#Checking the datatypes of each dataset\n",
    "july.info()"
   ]
  },
  {
   "cell_type": "code",
   "execution_count": 7,
   "metadata": {},
   "outputs": [
    {
     "name": "stdout",
     "output_type": "stream",
     "text": [
      "<class 'pandas.core.frame.DataFrame'>\n",
      "RangeIndex: 224969 entries, 0 to 224968\n",
      "Data columns (total 16 columns):\n",
      " #   Column          Non-Null Count   Dtype  \n",
      "---  ------          --------------   -----  \n",
      " 0   pubTimeStamp    224969 non-null  object \n",
      " 1   companyName     224969 non-null  object \n",
      " 2   tripRecordNum   224969 non-null  object \n",
      " 3   sumdID          224969 non-null  object \n",
      " 4   tripDuration    224969 non-null  float64\n",
      " 5   tripDistance    224969 non-null  float64\n",
      " 6   startDate       224969 non-null  object \n",
      " 7   startTime       224969 non-null  object \n",
      " 8   endDate         224969 non-null  object \n",
      " 9   endTime         224969 non-null  object \n",
      " 10  startLatitude   224969 non-null  float64\n",
      " 11  startLongitude  224969 non-null  float64\n",
      " 12  endLatitude     224969 non-null  float64\n",
      " 13  endLongitude    224969 non-null  float64\n",
      " 14  tripRoute       224969 non-null  object \n",
      " 15  create_dt       224969 non-null  object \n",
      "dtypes: float64(6), object(10)\n",
      "memory usage: 27.5+ MB\n"
     ]
    }
   ],
   "source": [
    "#Checking the datatypes of each dataset\n",
    "may_trip.info()"
   ]
  },
  {
   "cell_type": "code",
   "execution_count": 8,
   "metadata": {},
   "outputs": [
    {
     "name": "stdout",
     "output_type": "stream",
     "text": [
      "<class 'pandas.core.frame.DataFrame'>\n",
      "RangeIndex: 205627 entries, 0 to 205626\n",
      "Data columns (total 16 columns):\n",
      " #   Column          Non-Null Count   Dtype  \n",
      "---  ------          --------------   -----  \n",
      " 0   pubTimeStamp    205627 non-null  object \n",
      " 1   companyName     205627 non-null  object \n",
      " 2   tripRecordNum   205627 non-null  object \n",
      " 3   sumdID          205627 non-null  object \n",
      " 4   tripDuration    205627 non-null  float64\n",
      " 5   tripDistance    205627 non-null  float64\n",
      " 6   startDate       205627 non-null  object \n",
      " 7   startTime       205627 non-null  object \n",
      " 8   endDate         205627 non-null  object \n",
      " 9   endTime         205627 non-null  object \n",
      " 10  startLatitude   205627 non-null  float64\n",
      " 11  startLongitude  205627 non-null  float64\n",
      " 12  endLatitude     205627 non-null  float64\n",
      " 13  endLongitude    205627 non-null  float64\n",
      " 14  tripRoute       205627 non-null  object \n",
      " 15  create_dt       205627 non-null  object \n",
      "dtypes: float64(6), object(10)\n",
      "memory usage: 25.1+ MB\n"
     ]
    }
   ],
   "source": [
    "#Checking the datatypes of each dataset\n",
    "june_trip.info()"
   ]
  },
  {
   "cell_type": "code",
   "execution_count": 9,
   "metadata": {},
   "outputs": [
    {
     "name": "stdout",
     "output_type": "stream",
     "text": [
      "<class 'pandas.core.frame.DataFrame'>\n",
      "RangeIndex: 134926 entries, 0 to 134925\n",
      "Data columns (total 16 columns):\n",
      " #   Column          Non-Null Count   Dtype  \n",
      "---  ------          --------------   -----  \n",
      " 0   pubTimeStamp    134926 non-null  object \n",
      " 1   companyName     134926 non-null  object \n",
      " 2   tripRecordNum   134926 non-null  object \n",
      " 3   sumdID          134926 non-null  object \n",
      " 4   tripDuration    134926 non-null  float64\n",
      " 5   tripDistance    134926 non-null  float64\n",
      " 6   startDate       134926 non-null  object \n",
      " 7   startTime       134926 non-null  object \n",
      " 8   endDate         134926 non-null  object \n",
      " 9   endTime         134926 non-null  object \n",
      " 10  startLatitude   134926 non-null  float64\n",
      " 11  startLongitude  134926 non-null  float64\n",
      " 12  endLatitude     134926 non-null  float64\n",
      " 13  endLongitude    134926 non-null  float64\n",
      " 14  tripRoute       134926 non-null  object \n",
      " 15  create_dt       134926 non-null  object \n",
      "dtypes: float64(6), object(10)\n",
      "memory usage: 16.5+ MB\n"
     ]
    }
   ],
   "source": [
    "#Checking the datatypes of each dataset\n",
    "july_trip.info()"
   ]
  },
  {
   "cell_type": "code",
   "execution_count": 10,
   "metadata": {},
   "outputs": [
    {
     "data": {
      "text/plain": [
       "companyName\n",
       "Bird             2945\n",
       "Bolt Mobility     342\n",
       "Gotcha            105\n",
       "JUMP                1\n",
       "Lime             1576\n",
       "Lyft             1361\n",
       "SPIN              636\n",
       "Name: sumdID, dtype: int64"
      ]
     },
     "execution_count": 10,
     "metadata": {},
     "output_type": "execute_result"
    }
   ],
   "source": [
    "#Found out how many unique devices there were by company\n",
    "may_trip.groupby('companyName')['sumdID'].nunique()"
   ]
  },
  {
   "cell_type": "code",
   "execution_count": 11,
   "metadata": {},
   "outputs": [
    {
     "data": {
      "text/plain": [
       "companyname\n",
       "0    3064\n",
       "1    1376\n",
       "2     223\n",
       "3    1631\n",
       "4     687\n",
       "5     976\n",
       "6     346\n",
       "Name: sumdid, dtype: int64"
      ]
     },
     "execution_count": 11,
     "metadata": {},
     "output_type": "execute_result"
    }
   ],
   "source": [
    "#checking how many unique ids there are for each company\n",
    "may.groupby('companyname')['sumdid'].nunique()"
   ]
  },
  {
   "cell_type": "code",
   "execution_count": 12,
   "metadata": {},
   "outputs": [
    {
     "data": {
      "text/plain": [
       "8303"
      ]
     },
     "execution_count": 12,
     "metadata": {},
     "output_type": "execute_result"
    }
   ],
   "source": [
    "#checking how many unique ids there are in the datasets\n",
    "may.sumdid.nunique()"
   ]
  },
  {
   "cell_type": "code",
   "execution_count": 13,
   "metadata": {},
   "outputs": [
    {
     "data": {
      "text/plain": [
       "6966"
      ]
     },
     "execution_count": 13,
     "metadata": {},
     "output_type": "execute_result"
    }
   ],
   "source": [
    "#double checking the math\n",
    "may_trip.sumdID.nunique()"
   ]
  },
  {
   "cell_type": "code",
   "execution_count": 14,
   "metadata": {},
   "outputs": [
    {
     "data": {
      "text/plain": [
       "companyName\n",
       "Bird             2864\n",
       "Bolt Mobility     329\n",
       "Gotcha            133\n",
       "JUMP              182\n",
       "Lime             1423\n",
       "Lyft             1141\n",
       "SPIN              670\n",
       "Name: sumdID, dtype: int64"
      ]
     },
     "execution_count": 14,
     "metadata": {},
     "output_type": "execute_result"
    }
   ],
   "source": [
    "#Found out how many unique devices there were by company\n",
    "june_trip.groupby('companyName')['sumdID'].nunique()"
   ]
  },
  {
   "cell_type": "code",
   "execution_count": 15,
   "metadata": {},
   "outputs": [
    {
     "data": {
      "text/plain": [
       "6742"
      ]
     },
     "execution_count": 15,
     "metadata": {},
     "output_type": "execute_result"
    }
   ],
   "source": [
    "#double checking the math\n",
    "june_trip.sumdID.nunique()"
   ]
  },
  {
   "cell_type": "code",
   "execution_count": 16,
   "metadata": {},
   "outputs": [
    {
     "data": {
      "text/plain": [
       "companyName\n",
       "Bird             2471\n",
       "Bolt Mobility     268\n",
       "Gotcha            103\n",
       "JUMP              409\n",
       "Lime              810\n",
       "Lyft             1012\n",
       "SPIN              512\n",
       "Name: sumdID, dtype: int64"
      ]
     },
     "execution_count": 16,
     "metadata": {},
     "output_type": "execute_result"
    }
   ],
   "source": [
    "#Found out how many unique devices there were by company\n",
    "july_trip.groupby('companyName')['sumdID'].nunique()"
   ]
  },
  {
   "cell_type": "code",
   "execution_count": 17,
   "metadata": {},
   "outputs": [
    {
     "data": {
      "text/plain": [
       "5585"
      ]
     },
     "execution_count": 17,
     "metadata": {},
     "output_type": "execute_result"
    }
   ],
   "source": [
    "#double checking the math\n",
    "july_trip.sumdID.nunique()"
   ]
  },
  {
   "cell_type": "code",
   "execution_count": 18,
   "metadata": {},
   "outputs": [
    {
     "data": {
      "text/plain": [
       "pubdatetime      0\n",
       "latitude         0\n",
       "longitude        0\n",
       "sumdid           0\n",
       "chargelevel    283\n",
       "companyname      0\n",
       "dtype: int64"
      ]
     },
     "execution_count": 18,
     "metadata": {},
     "output_type": "execute_result"
    }
   ],
   "source": [
    "#looking to see what columns have null values\n",
    "may.isnull().sum()"
   ]
  },
  {
   "cell_type": "code",
   "execution_count": 19,
   "metadata": {},
   "outputs": [
    {
     "data": {
      "text/plain": [
       "pubdatetime      0\n",
       "latitude         0\n",
       "longitude        0\n",
       "sumdid           0\n",
       "chargelevel    285\n",
       "companyname      0\n",
       "dtype: int64"
      ]
     },
     "execution_count": 19,
     "metadata": {},
     "output_type": "execute_result"
    }
   ],
   "source": [
    "#looking to see what columns have null values\n",
    "june.isnull().sum()"
   ]
  },
  {
   "cell_type": "code",
   "execution_count": 20,
   "metadata": {},
   "outputs": [
    {
     "data": {
      "text/plain": [
       "pubdatetime      0\n",
       "latitude         0\n",
       "longitude        0\n",
       "sumdid           0\n",
       "chargelevel    202\n",
       "companyname      0\n",
       "dtype: int64"
      ]
     },
     "execution_count": 20,
     "metadata": {},
     "output_type": "execute_result"
    }
   ],
   "source": [
    "#looking to see what columns have null values\n",
    "july.isnull().sum()"
   ]
  },
  {
   "cell_type": "code",
   "execution_count": 21,
   "metadata": {},
   "outputs": [
    {
     "data": {
      "text/plain": [
       "pubTimeStamp      0\n",
       "companyName       0\n",
       "tripRecordNum     0\n",
       "sumdID            0\n",
       "tripDuration      0\n",
       "tripDistance      0\n",
       "startDate         0\n",
       "startTime         0\n",
       "endDate           0\n",
       "endTime           0\n",
       "startLatitude     0\n",
       "startLongitude    0\n",
       "endLatitude       0\n",
       "endLongitude      0\n",
       "tripRoute         0\n",
       "create_dt         0\n",
       "dtype: int64"
      ]
     },
     "execution_count": 21,
     "metadata": {},
     "output_type": "execute_result"
    }
   ],
   "source": [
    "#looking to see what columns have null values\n",
    "may_trip.isnull().sum()"
   ]
  },
  {
   "cell_type": "code",
   "execution_count": 22,
   "metadata": {},
   "outputs": [
    {
     "data": {
      "text/plain": [
       "pubTimeStamp      0\n",
       "companyName       0\n",
       "tripRecordNum     0\n",
       "sumdID            0\n",
       "tripDuration      0\n",
       "tripDistance      0\n",
       "startDate         0\n",
       "startTime         0\n",
       "endDate           0\n",
       "endTime           0\n",
       "startLatitude     0\n",
       "startLongitude    0\n",
       "endLatitude       0\n",
       "endLongitude      0\n",
       "tripRoute         0\n",
       "create_dt         0\n",
       "dtype: int64"
      ]
     },
     "execution_count": 22,
     "metadata": {},
     "output_type": "execute_result"
    }
   ],
   "source": [
    "#looking to see what columns have null values\n",
    "june_trip.isnull().sum()"
   ]
  },
  {
   "cell_type": "code",
   "execution_count": 23,
   "metadata": {},
   "outputs": [
    {
     "data": {
      "text/plain": [
       "pubTimeStamp      0\n",
       "companyName       0\n",
       "tripRecordNum     0\n",
       "sumdID            0\n",
       "tripDuration      0\n",
       "tripDistance      0\n",
       "startDate         0\n",
       "startTime         0\n",
       "endDate           0\n",
       "endTime           0\n",
       "startLatitude     0\n",
       "startLongitude    0\n",
       "endLatitude       0\n",
       "endLongitude      0\n",
       "tripRoute         0\n",
       "create_dt         0\n",
       "dtype: int64"
      ]
     },
     "execution_count": 23,
     "metadata": {},
     "output_type": "execute_result"
    }
   ],
   "source": [
    "#looking to see what columns have null values\n",
    "july_trip.isnull().sum()"
   ]
  },
  {
   "cell_type": "code",
   "execution_count": 24,
   "metadata": {},
   "outputs": [
    {
     "data": {
      "text/plain": [
       "0         2019-07-01 00:02:52.213000\n",
       "1         2019-07-01 00:02:52.213000\n",
       "2         2019-07-01 00:02:52.213000\n",
       "3         2019-07-01 00:02:52.213000\n",
       "4         2019-07-01 00:02:52.213000\n",
       "                     ...            \n",
       "134921           2019-08-01 04:53:48\n",
       "134922           2019-08-01 04:53:48\n",
       "134923           2019-08-01 04:53:48\n",
       "134924           2019-08-01 07:04:00\n",
       "134925           2019-08-01 07:04:00\n",
       "Name: pubTimeStamp, Length: 134926, dtype: object"
      ]
     },
     "execution_count": 24,
     "metadata": {},
     "output_type": "execute_result"
    }
   ],
   "source": [
    "#making sure the columns will read when there's capital letters\n",
    "july_trip.pubTimeStamp"
   ]
  },
  {
   "cell_type": "code",
   "execution_count": 25,
   "metadata": {},
   "outputs": [
    {
     "data": {
      "text/plain": [
       "3    7111655\n",
       "0    4334006\n",
       "1    3112581\n",
       "5    2984630\n",
       "4    1301001\n",
       "2     915314\n",
       "6     524395\n",
       "Name: companyname, dtype: int64"
      ]
     },
     "execution_count": 25,
     "metadata": {},
     "output_type": "execute_result"
    }
   ],
   "source": [
    "#checking which company had the most stationary bikes\n",
    "may.companyname.value_counts()"
   ]
  },
  {
   "cell_type": "code",
   "execution_count": 26,
   "metadata": {},
   "outputs": [
    {
     "data": {
      "text/plain": [
       "5    8482893\n",
       "3    6152504\n",
       "0    4215302\n",
       "1    3084229\n",
       "4    2507991\n",
       "2    1830453\n",
       "6    1764036\n",
       "Name: companyname, dtype: int64"
      ]
     },
     "execution_count": 26,
     "metadata": {},
     "output_type": "execute_result"
    }
   ],
   "source": [
    "#checking which company had the most stationary bikes\n",
    "june.companyname.value_counts()"
   ]
  },
  {
   "cell_type": "code",
   "execution_count": 27,
   "metadata": {},
   "outputs": [
    {
     "data": {
      "text/plain": [
       "5    10367575\n",
       "0     3702282\n",
       "3     3233573\n",
       "1     2890233\n",
       "2     1933513\n",
       "4     1750581\n",
       "6     1188767\n",
       "Name: companyname, dtype: int64"
      ]
     },
     "execution_count": 27,
     "metadata": {},
     "output_type": "execute_result"
    }
   ],
   "source": [
    "#checking which company had the most stationary bikes\n",
    "july.companyname.value_counts()"
   ]
  },
  {
   "cell_type": "code",
   "execution_count": 28,
   "metadata": {},
   "outputs": [
    {
     "data": {
      "text/plain": [
       "Lime             102569\n",
       "Lyft              54271\n",
       "Bird              53496\n",
       "SPIN               8471\n",
       "Bolt Mobility      4912\n",
       "Gotcha              650\n",
       "JUMP                600\n",
       "Name: companyName, dtype: int64"
      ]
     },
     "execution_count": 28,
     "metadata": {},
     "output_type": "execute_result"
    }
   ],
   "source": [
    "#checking which company had the most used bikes\n",
    "may_trip.companyName.value_counts()"
   ]
  },
  {
   "cell_type": "code",
   "execution_count": 29,
   "metadata": {},
   "outputs": [
    {
     "data": {
      "text/plain": [
       "Lime             84728\n",
       "Bird             55014\n",
       "Lyft             37821\n",
       "SPIN             14294\n",
       "Bolt Mobility    10219\n",
       "Gotcha            1803\n",
       "JUMP              1748\n",
       "Name: companyName, dtype: int64"
      ]
     },
     "execution_count": 29,
     "metadata": {},
     "output_type": "execute_result"
    }
   ],
   "source": [
    "#checking which company had the most used bikes\n",
    "june_trip.companyName.value_counts()"
   ]
  },
  {
   "cell_type": "code",
   "execution_count": 30,
   "metadata": {},
   "outputs": [
    {
     "data": {
      "text/plain": [
       "Bird             44235\n",
       "Lime             38397\n",
       "Lyft             28899\n",
       "SPIN             11685\n",
       "Bolt Mobility     6759\n",
       "JUMP              4089\n",
       "Gotcha             862\n",
       "Name: companyName, dtype: int64"
      ]
     },
     "execution_count": 30,
     "metadata": {},
     "output_type": "execute_result"
    }
   ],
   "source": [
    "#checking which company had the most used bikes\n",
    "july_trip.companyName.value_counts()"
   ]
  },
  {
   "cell_type": "code",
   "execution_count": 31,
   "metadata": {
    "scrolled": true
   },
   "outputs": [
    {
     "data": {
      "text/plain": [
       "count    2.028330e+07\n",
       "mean     6.590530e+01\n",
       "std      3.041610e+01\n",
       "min      0.000000e+00\n",
       "25%      4.700000e+01\n",
       "50%      7.200000e+01\n",
       "75%      9.300000e+01\n",
       "max      1.000000e+02\n",
       "Name: chargelevel, dtype: float64"
      ]
     },
     "execution_count": 31,
     "metadata": {},
     "output_type": "execute_result"
    }
   ],
   "source": [
    "#found the descriptive stats for percentage of battery charges\n",
    "may.chargelevel.describe()"
   ]
  },
  {
   "cell_type": "code",
   "execution_count": 32,
   "metadata": {},
   "outputs": [
    {
     "data": {
      "text/plain": [
       "20283582"
      ]
     },
     "execution_count": 32,
     "metadata": {},
     "output_type": "execute_result"
    }
   ],
   "source": [
    "#counted the amount of times a company name came up\n",
    "may.companyname.count()"
   ]
  },
  {
   "cell_type": "code",
   "execution_count": null,
   "metadata": {},
   "outputs": [],
   "source": []
  },
  {
   "cell_type": "code",
   "execution_count": 33,
   "metadata": {},
   "outputs": [
    {
     "data": {
      "text/plain": [
       "count    2.803712e+07\n",
       "mean     5.830082e+01\n",
       "std      3.468189e+01\n",
       "min      0.000000e+00\n",
       "25%      3.400000e+01\n",
       "50%      6.600000e+01\n",
       "75%      9.000000e+01\n",
       "max      1.000000e+02\n",
       "Name: chargelevel, dtype: float64"
      ]
     },
     "execution_count": 33,
     "metadata": {},
     "output_type": "execute_result"
    }
   ],
   "source": [
    "#found the descriptive stats for percentage of battery charges\n",
    "june.chargelevel.describe()"
   ]
  },
  {
   "cell_type": "code",
   "execution_count": 34,
   "metadata": {},
   "outputs": [
    {
     "data": {
      "text/plain": [
       "28037408"
      ]
     },
     "execution_count": 34,
     "metadata": {},
     "output_type": "execute_result"
    }
   ],
   "source": [
    "#counted the amount of times a company name came up\n",
    "june.companyname.count()"
   ]
  },
  {
   "cell_type": "code",
   "execution_count": 35,
   "metadata": {},
   "outputs": [
    {
     "data": {
      "text/plain": [
       "count    2.506632e+07\n",
       "mean     5.151019e+01\n",
       "std      3.733133e+01\n",
       "min      0.000000e+00\n",
       "25%      3.000000e+00\n",
       "50%      5.900000e+01\n",
       "75%      8.700000e+01\n",
       "max      1.000000e+02\n",
       "Name: chargelevel, dtype: float64"
      ]
     },
     "execution_count": 35,
     "metadata": {},
     "output_type": "execute_result"
    }
   ],
   "source": [
    "#found the descriptive stats for percentage of battery charges\n",
    "july.chargelevel.describe()"
   ]
  },
  {
   "cell_type": "code",
   "execution_count": 36,
   "metadata": {},
   "outputs": [
    {
     "data": {
      "text/plain": [
       "25066524"
      ]
     },
     "execution_count": 36,
     "metadata": {},
     "output_type": "execute_result"
    }
   ],
   "source": [
    "#counted the amount of times a company name came up\n",
    "july.companyname.count()"
   ]
  },
  {
   "cell_type": "markdown",
   "metadata": {},
   "source": [
    "## Started Analysis"
   ]
  },
  {
   "cell_type": "code",
   "execution_count": 37,
   "metadata": {},
   "outputs": [],
   "source": [
    "#counting how many scooters were out by company\n",
    "may_scooter_counts = may.groupby('companyname')['sumdid'].nunique()"
   ]
  },
  {
   "cell_type": "code",
   "execution_count": 38,
   "metadata": {},
   "outputs": [],
   "source": [
    "#counting how many scooters were out by company\n",
    "june_scooter_counts = june.groupby('companyname')['sumdid'].nunique()"
   ]
  },
  {
   "cell_type": "code",
   "execution_count": 39,
   "metadata": {},
   "outputs": [],
   "source": [
    "#counting how many scooters were out by company\n",
    "july_scooter_counts = july.groupby('companyname')['sumdid'].nunique()"
   ]
  },
  {
   "cell_type": "code",
   "execution_count": 40,
   "metadata": {},
   "outputs": [
    {
     "data": {
      "text/plain": [
       "companyname\n",
       "0    3064\n",
       "3    1631\n",
       "1    1376\n",
       "5     976\n",
       "4     687\n",
       "6     346\n",
       "2     223\n",
       "Name: sumdid, dtype: int64"
      ]
     },
     "execution_count": 40,
     "metadata": {},
     "output_type": "execute_result"
    }
   ],
   "source": [
    "#showing how many scooters were out in descending order\n",
    "may_scooter_counts.sort_values(ascending = False)"
   ]
  },
  {
   "cell_type": "code",
   "execution_count": 41,
   "metadata": {},
   "outputs": [
    {
     "data": {
      "text/plain": [
       "companyname\n",
       "0    2910\n",
       "3    1455\n",
       "1    1152\n",
       "5    1036\n",
       "4     713\n",
       "6     333\n",
       "2     223\n",
       "Name: sumdid, dtype: int64"
      ]
     },
     "execution_count": 41,
     "metadata": {},
     "output_type": "execute_result"
    }
   ],
   "source": [
    "#showing how many bikes were out in descending order\n",
    "june_scooter_counts.sort_values(ascending = False)"
   ]
  },
  {
   "cell_type": "code",
   "execution_count": 42,
   "metadata": {},
   "outputs": [
    {
     "data": {
      "text/plain": [
       "companyname\n",
       "0    2583\n",
       "5    1206\n",
       "1    1026\n",
       "3     902\n",
       "4     570\n",
       "6     276\n",
       "2     224\n",
       "Name: sumdid, dtype: int64"
      ]
     },
     "execution_count": 42,
     "metadata": {},
     "output_type": "execute_result"
    }
   ],
   "source": [
    "#showing how many bikes were out in descending order\n",
    "july_scooter_counts.sort_values(ascending = False)"
   ]
  },
  {
   "cell_type": "code",
   "execution_count": 43,
   "metadata": {},
   "outputs": [
    {
     "data": {
      "text/plain": [
       "companyname\n",
       "0.0    3064\n",
       "0.0    3064\n",
       "0.0    3064\n",
       "0.0    3064\n",
       "0.0    3064\n",
       "       ... \n",
       "0.0    3064\n",
       "6.0     346\n",
       "0.0    3064\n",
       "0.0    3064\n",
       "6.0     346\n",
       "Name: sumdid, Length: 1560109, dtype: int64"
      ]
     },
     "execution_count": 43,
     "metadata": {},
     "output_type": "execute_result"
    }
   ],
   "source": [
    "#experimenting\n",
    "may_scooter_counts.filter(may['chargelevel'])"
   ]
  },
  {
   "cell_type": "code",
   "execution_count": 44,
   "metadata": {},
   "outputs": [
    {
     "data": {
      "text/plain": [
       "3    7111655\n",
       "0    4334006\n",
       "1    3112581\n",
       "5    2984630\n",
       "4    1301001\n",
       "2     915314\n",
       "6     524395\n",
       "Name: companyname, dtype: int64"
      ]
     },
     "execution_count": 44,
     "metadata": {},
     "output_type": "execute_result"
    }
   ],
   "source": [
    "#experimenting\n",
    "may['companyname'].value_counts()"
   ]
  },
  {
   "cell_type": "code",
   "execution_count": 45,
   "metadata": {},
   "outputs": [],
   "source": [
    "#getting the charge by company for may\n",
    "may_scooter_charge = may.groupby('companyname')['chargelevel'].nunique()"
   ]
  },
  {
   "cell_type": "code",
   "execution_count": 46,
   "metadata": {},
   "outputs": [
    {
     "data": {
      "text/plain": [
       "companyname\n",
       "0     81\n",
       "1     86\n",
       "2     96\n",
       "3    101\n",
       "4    101\n",
       "5    200\n",
       "6    699\n",
       "Name: chargelevel, dtype: int64"
      ]
     },
     "execution_count": 46,
     "metadata": {},
     "output_type": "execute_result"
    }
   ],
   "source": [
    "#checking the charge by company for may\n",
    "may_scooter_charge"
   ]
  },
  {
   "cell_type": "code",
   "execution_count": 47,
   "metadata": {},
   "outputs": [],
   "source": [
    "#getting the mean charge by company for may\n",
    "may_scooter_mean = may.groupby('companyname')['chargelevel'].mean()"
   ]
  },
  {
   "cell_type": "code",
   "execution_count": 48,
   "metadata": {},
   "outputs": [
    {
     "data": {
      "text/plain": [
       "companyname\n",
       "4    80.005576\n",
       "0    75.929047\n",
       "6    72.932402\n",
       "3    71.003098\n",
       "1    68.298269\n",
       "2    56.573660\n",
       "5    32.189535\n",
       "Name: chargelevel, dtype: float64"
      ]
     },
     "execution_count": 48,
     "metadata": {},
     "output_type": "execute_result"
    }
   ],
   "source": [
    "#checking the mean charge by company for may\n",
    "may_scooter_mean.sort_values(ascending = False)"
   ]
  },
  {
   "cell_type": "markdown",
   "metadata": {},
   "source": [
    "## Trying Out Different Charts"
   ]
  },
  {
   "cell_type": "code",
   "execution_count": 49,
   "metadata": {},
   "outputs": [
    {
     "data": {
      "text/plain": [
       "(array([1255657.,  197647.,  105727.,  110586.,   66125.,   33620.,\n",
       "          26973.,   18250.,   33895.,   23629.,   29012.,   24823.,\n",
       "          26841.,   18337.,   21678.,   28674.,   28133.,   37634.,\n",
       "          44874.,   38906.,   50640.,   51322.,   61512.,   65498.,\n",
       "          71031.,   75239.,   62816.,   71588.,   56779.,   96515.,\n",
       "          79961.,   87512.,   82597.,  102999.,  101089.,  118605.,\n",
       "         114842.,  120959.,  128414.,  126216.,  148272.,  155088.,\n",
       "         138107.,  169407.,  164345.,  164578.,  166909.,  153375.,\n",
       "         156417.,  170262.,  157692.,  167487.,  175925.,  170677.,\n",
       "         202949.,  172150.,  197167.,  188833.,  206052.,  193131.,\n",
       "         207117.,  180584.,  212146.,  214324.,  212687.,  212470.,\n",
       "         245481.,  252268.,  213763.,  234790.,  230047.,  244327.,\n",
       "         228895.,  232468.,  216999.,  245177.,  227710.,  225722.,\n",
       "         211438.,  225683.,  224729.,  211731.,  218885.,  234110.,\n",
       "         221681.,  243228.,  238349.,  245792.,  273815.,  276907.,\n",
       "         320108.,  280219.,  325016.,  339675.,  374264.,  403067.,\n",
       "         407595.,  393611.,  468611., 2791832.]),\n",
       " array([  0.,   1.,   2.,   3.,   4.,   5.,   6.,   7.,   8.,   9.,  10.,\n",
       "         11.,  12.,  13.,  14.,  15.,  16.,  17.,  18.,  19.,  20.,  21.,\n",
       "         22.,  23.,  24.,  25.,  26.,  27.,  28.,  29.,  30.,  31.,  32.,\n",
       "         33.,  34.,  35.,  36.,  37.,  38.,  39.,  40.,  41.,  42.,  43.,\n",
       "         44.,  45.,  46.,  47.,  48.,  49.,  50.,  51.,  52.,  53.,  54.,\n",
       "         55.,  56.,  57.,  58.,  59.,  60.,  61.,  62.,  63.,  64.,  65.,\n",
       "         66.,  67.,  68.,  69.,  70.,  71.,  72.,  73.,  74.,  75.,  76.,\n",
       "         77.,  78.,  79.,  80.,  81.,  82.,  83.,  84.,  85.,  86.,  87.,\n",
       "         88.,  89.,  90.,  91.,  92.,  93.,  94.,  95.,  96.,  97.,  98.,\n",
       "         99., 100.]),\n",
       " <BarContainer object of 100 artists>)"
      ]
     },
     "execution_count": 49,
     "metadata": {},
     "output_type": "execute_result"
    },
    {
     "data": {
      "image/png": "[encoded data removed]",
      "text/plain": [
       "<Figure size 432x288 with 1 Axes>"
      ]
     },
     "metadata": {
      "needs_background": "light"
     },
     "output_type": "display_data"
    }
   ],
   "source": [
    "#plotted percentage of battery checkins by millions\n",
    "plt.hist(may.chargelevel, bins = 100)"
   ]
  },
  {
   "cell_type": "code",
   "execution_count": 50,
   "metadata": {},
   "outputs": [
    {
     "data": {
      "text/plain": [
       "(array([2844694., 1015357.,  400520.,  499684.,  254781.,   93056.,\n",
       "          41867.,   15352.,   62432.,   35290.,   54667.,   26651.,\n",
       "          40935.,   27719.,   21000.,   37320.,   30095.,   48888.,\n",
       "          45758.,   46965.,   68123.,   62743.,   88955.,  103424.,\n",
       "          82236.,   95933.,   82256.,   87233.,   66174.,  115313.,\n",
       "         107692.,  108992.,  103143.,  150944.,  121647.,  165584.,\n",
       "         152644.,  155347.,  159433.,  177017.,  227292.,  227246.,\n",
       "         196399.,  252789.,  215398.,  228944.,  215753.,  184815.,\n",
       "         215247.,  217716.,  190388.,  202828.,  239882.,  225710.,\n",
       "         249138.,  201613.,  233836.,  221349.,  233286.,  234189.,\n",
       "         238649.,  211814.,  243859.,  249273.,  270685.,  248510.,\n",
       "         314642.,  309894.,  257310.,  292434.,  300120.,  316377.,\n",
       "         281805.,  288223.,  278368.,  310749.,  283116.,  288397.,\n",
       "         267717.,  298934.,  286045.,  275255.,  269418.,  287205.,\n",
       "         294250.,  314073.,  303140.,  326117.,  360414.,  348542.,\n",
       "         432984.,  356204.,  415611.,  451924.,  506587.,  557321.,\n",
       "         522512.,  483472.,  563027., 2820464.]),\n",
       " array([  0.,   1.,   2.,   3.,   4.,   5.,   6.,   7.,   8.,   9.,  10.,\n",
       "         11.,  12.,  13.,  14.,  15.,  16.,  17.,  18.,  19.,  20.,  21.,\n",
       "         22.,  23.,  24.,  25.,  26.,  27.,  28.,  29.,  30.,  31.,  32.,\n",
       "         33.,  34.,  35.,  36.,  37.,  38.,  39.,  40.,  41.,  42.,  43.,\n",
       "         44.,  45.,  46.,  47.,  48.,  49.,  50.,  51.,  52.,  53.,  54.,\n",
       "         55.,  56.,  57.,  58.,  59.,  60.,  61.,  62.,  63.,  64.,  65.,\n",
       "         66.,  67.,  68.,  69.,  70.,  71.,  72.,  73.,  74.,  75.,  76.,\n",
       "         77.,  78.,  79.,  80.,  81.,  82.,  83.,  84.,  85.,  86.,  87.,\n",
       "         88.,  89.,  90.,  91.,  92.,  93.,  94.,  95.,  96.,  97.,  98.,\n",
       "         99., 100.]),\n",
       " <BarContainer object of 100 artists>)"
      ]
     },
     "execution_count": 50,
     "metadata": {},
     "output_type": "execute_result"
    },
    {
     "data": {
      "image/png": "[encoded data removed]",
      "text/plain": [
       "<Figure size 432x288 with 1 Axes>"
      ]
     },
     "metadata": {
      "needs_background": "light"
     },
     "output_type": "display_data"
    }
   ],
   "source": [
    "#plotted percentage of battery checkins by millions\n",
    "plt.hist(june.chargelevel, bins = 100)"
   ]
  },
  {
   "cell_type": "code",
   "execution_count": 51,
   "metadata": {},
   "outputs": [
    {
     "data": {
      "text/plain": [
       "(array([3883367., 1407919.,  517373.,  678317.,  283560.,  123404.,\n",
       "          58007.,   17167.,   48584.,   46813.,   44941.,   14625.,\n",
       "          39520.,   12841.,   12558.,   40438.,   22452.,   53425.,\n",
       "          39799.,   41334.,   63762.,   44333.,   81169.,   88069.,\n",
       "          65104.,   71079.,   60216.,   64115.,   52403.,   79913.,\n",
       "          96258.,   84643.,   80641.,  118016.,   88089.,  135510.,\n",
       "         116839.,  122662.,  123224.,  145467.,  186599.,  184828.,\n",
       "         151439.,  208691.,  160497.,  187056.,  162307.,  155357.,\n",
       "         191752.,  182123.,  155411.,  154462.,  179994.,  175623.,\n",
       "         207084.,  144202.,  185859.,  151716.,  169312.,  175766.,\n",
       "         174800.,  165452.,  179615.,  193259.,  206216.,  174957.,\n",
       "         245559.,  229719.,  203182.,  231086.,  255896.,  250944.,\n",
       "         227285.,  239960.,  217427.,  251203.,  230620.,  246080.,\n",
       "         225727.,  261935.,  258753.,  239797.,  235210.,  243042.,\n",
       "         262840.,  262941.,  246678.,  264536.,  293436.,  294262.,\n",
       "         353260.,  282136.,  315404.,  349980.,  369930.,  434810.,\n",
       "         382870.,  362827.,  424449., 2140205.]),\n",
       " array([  0.,   1.,   2.,   3.,   4.,   5.,   6.,   7.,   8.,   9.,  10.,\n",
       "         11.,  12.,  13.,  14.,  15.,  16.,  17.,  18.,  19.,  20.,  21.,\n",
       "         22.,  23.,  24.,  25.,  26.,  27.,  28.,  29.,  30.,  31.,  32.,\n",
       "         33.,  34.,  35.,  36.,  37.,  38.,  39.,  40.,  41.,  42.,  43.,\n",
       "         44.,  45.,  46.,  47.,  48.,  49.,  50.,  51.,  52.,  53.,  54.,\n",
       "         55.,  56.,  57.,  58.,  59.,  60.,  61.,  62.,  63.,  64.,  65.,\n",
       "         66.,  67.,  68.,  69.,  70.,  71.,  72.,  73.,  74.,  75.,  76.,\n",
       "         77.,  78.,  79.,  80.,  81.,  82.,  83.,  84.,  85.,  86.,  87.,\n",
       "         88.,  89.,  90.,  91.,  92.,  93.,  94.,  95.,  96.,  97.,  98.,\n",
       "         99., 100.]),\n",
       " <BarContainer object of 100 artists>)"
      ]
     },
     "execution_count": 51,
     "metadata": {},
     "output_type": "execute_result"
    },
    {
     "data": {
      "image/png": "[encoded data removed]",
      "text/plain": [
       "<Figure size 432x288 with 1 Axes>"
      ]
     },
     "metadata": {
      "needs_background": "light"
     },
     "output_type": "display_data"
    }
   ],
   "source": [
    "#plotted percentage of battery checkins by millions\n",
    "plt.hist(july.chargelevel, bins = 100)"
   ]
  },
  {
   "cell_type": "code",
   "execution_count": 52,
   "metadata": {},
   "outputs": [
    {
     "data": {
      "text/plain": [
       "(array([1., 0., 0., 0., 0., 0., 0., 1., 0., 0., 0., 1., 2., 1., 1.]),\n",
       " array([32.18953458, 35.37727068, 38.56500679, 41.75274289, 44.940479  ,\n",
       "        48.1282151 , 51.31595121, 54.50368731, 57.69142342, 60.87915952,\n",
       "        64.06689563, 67.25463173, 70.44236784, 73.63010394, 76.81784005,\n",
       "        80.00557615]),\n",
       " <BarContainer object of 15 artists>)"
      ]
     },
     "execution_count": 52,
     "metadata": {},
     "output_type": "execute_result"
    },
    {
     "data": {
      "image/png": "[encoded data removed]",
      "text/plain": [
       "<Figure size 432x288 with 1 Axes>"
      ]
     },
     "metadata": {
      "needs_background": "light"
     },
     "output_type": "display_data"
    }
   ],
   "source": [
    "#histogram chart for mean may scooter charge\n",
    "plt.hist(may_scooter_mean, bins = 15)"
   ]
  },
  {
   "cell_type": "code",
   "execution_count": 53,
   "metadata": {},
   "outputs": [
    {
     "data": {
      "text/plain": [
       "<matplotlib.collections.PathCollection at 0x2c0a830a370>"
      ]
     },
     "execution_count": 53,
     "metadata": {},
     "output_type": "execute_result"
    },
    {
     "data": {
      "image/png": "[encoded data removed]",
      "text/plain": [
       "<Figure size 432x288 with 1 Axes>"
      ]
     },
     "metadata": {
      "needs_background": "light"
     },
     "output_type": "display_data"
    }
   ],
   "source": [
    "#scatter chart for mean may scooter charge\n",
    "plt.scatter(may_scooter_charge, may_scooter_mean)"
   ]
  },
  {
   "cell_type": "code",
   "execution_count": 54,
   "metadata": {},
   "outputs": [
    {
     "data": {
      "text/plain": [
       "[<matplotlib.lines.Line2D at 0x2c0a83731f0>]"
      ]
     },
     "execution_count": 54,
     "metadata": {},
     "output_type": "execute_result"
    },
    {
     "data": {
      "image/png": "[encoded data removed]",
      "text/plain": [
       "<Figure size 432x288 with 1 Axes>"
      ]
     },
     "metadata": {
      "needs_background": "light"
     },
     "output_type": "display_data"
    }
   ],
   "source": [
    "#line chart for mean may scooter charge\n",
    "plt.plot(may_scooter_mean)"
   ]
  },
  {
   "cell_type": "markdown",
   "metadata": {},
   "source": [
    "## Limiting Charge by Individual Companies and Plotting"
   ]
  },
  {
   "cell_type": "code",
   "execution_count": 55,
   "metadata": {},
   "outputs": [],
   "source": [
    "#charge level for the month of may\n",
    "may_scooter_charge = may.groupby('companyname')['chargelevel'].nunique()"
   ]
  },
  {
   "cell_type": "code",
   "execution_count": 56,
   "metadata": {},
   "outputs": [],
   "source": [
    "#may charge level bird\n",
    "bird_charge_may = may.loc[may['companyname'] == 0]"
   ]
  },
  {
   "cell_type": "code",
   "execution_count": 57,
   "metadata": {},
   "outputs": [],
   "source": [
    "#may charge level bird\n",
    "lyft_charge_may = may.loc[may['companyname'] == 1]"
   ]
  },
  {
   "cell_type": "code",
   "execution_count": 58,
   "metadata": {},
   "outputs": [],
   "source": [
    "#may charge level bird\n",
    "gotcha_charge_may = may.loc[may['companyname'] == 2]"
   ]
  },
  {
   "cell_type": "code",
   "execution_count": 59,
   "metadata": {},
   "outputs": [],
   "source": [
    "#may charge level bird\n",
    "lime_charge_may = may.loc[may['companyname'] == 3]"
   ]
  },
  {
   "cell_type": "code",
   "execution_count": 60,
   "metadata": {},
   "outputs": [],
   "source": [
    "#may charge level bird\n",
    "spin_charge_may = may.loc[may['companyname'] == 4]"
   ]
  },
  {
   "cell_type": "code",
   "execution_count": 61,
   "metadata": {},
   "outputs": [],
   "source": [
    "#may charge level bird\n",
    "jump_charge_may = may.loc[may['companyname'] == 5]"
   ]
  },
  {
   "cell_type": "code",
   "execution_count": 62,
   "metadata": {},
   "outputs": [],
   "source": [
    "#may charge level bird\n",
    "bolt_charge_may = may.loc[may['companyname'] == 6]"
   ]
  },
  {
   "cell_type": "code",
   "execution_count": 63,
   "metadata": {},
   "outputs": [
    {
     "data": {
      "text/plain": [
       "<matplotlib.legend.Legend at 0x2c0a84241c0>"
      ]
     },
     "execution_count": 63,
     "metadata": {},
     "output_type": "execute_result"
    },
    {
     "data": {
      "image/png": "[encoded data removed]",
      "text/plain": [
       "<Figure size 432x288 with 1 Axes>"
      ]
     },
     "metadata": {
      "needs_background": "light"
     },
     "output_type": "display_data"
    }
   ],
   "source": [
    "#combined histogram chart for may companies\n",
    "legend1 = {'Bird':'0', 'Lyft':'1', 'Gotcha':'2', 'Lime':'3', 'Spin':'4', 'Jump':'5', 'Bolt':'6'}\n",
    "plt.hist(bird_charge_may['chargelevel'], bins = 25, alpha = 0.5)\n",
    "plt.hist(lyft_charge_may['chargelevel'], bins = 25, alpha = 0.5)\n",
    "plt.hist(gotcha_charge_may['chargelevel'], bins = 25, alpha = 0.5)\n",
    "plt.hist(lime_charge_may['chargelevel'], bins = 25, alpha = 0.5)\n",
    "plt.hist(spin_charge_may['chargelevel'], bins = 25, alpha = 0.5)\n",
    "plt.hist(jump_charge_may['chargelevel'], bins = 25, alpha = 0.5)\n",
    "plt.hist(bolt_charge_may['chargelevel'], bins = 25, alpha = 0.5)\n",
    "plt.title('May Charge Level')\n",
    "plt.legend(legend1)"
   ]
  },
  {
   "cell_type": "code",
   "execution_count": 64,
   "metadata": {},
   "outputs": [],
   "source": [
    "#june charge level bird\n",
    "bird_charge_june = june.loc[june['companyname'] == 0]"
   ]
  },
  {
   "cell_type": "code",
   "execution_count": 65,
   "metadata": {},
   "outputs": [],
   "source": [
    "#june charge level lyft\n",
    "lyft_charge_june = june.loc[june['companyname'] == 1]"
   ]
  },
  {
   "cell_type": "code",
   "execution_count": 66,
   "metadata": {},
   "outputs": [],
   "source": [
    "#june charge level gotcha\n",
    "gotcha_charge_june = june.loc[june['companyname'] == 2]"
   ]
  },
  {
   "cell_type": "code",
   "execution_count": 67,
   "metadata": {},
   "outputs": [],
   "source": [
    "#june charge level lime\n",
    "lime_charge_june = june.loc[june['companyname'] == 3]"
   ]
  },
  {
   "cell_type": "code",
   "execution_count": 68,
   "metadata": {},
   "outputs": [],
   "source": [
    "#june charge level spin\n",
    "spin_charge_june = june.loc[june['companyname'] == 4]"
   ]
  },
  {
   "cell_type": "code",
   "execution_count": 69,
   "metadata": {},
   "outputs": [],
   "source": [
    "#june charge level jump\n",
    "jump_charge_june = june.loc[june['companyname'] == 5]"
   ]
  },
  {
   "cell_type": "code",
   "execution_count": 70,
   "metadata": {},
   "outputs": [],
   "source": [
    "#june charge level bolt\n",
    "bolt_charge_june = june.loc[june['companyname'] == 6]"
   ]
  },
  {
   "cell_type": "code",
   "execution_count": 71,
   "metadata": {},
   "outputs": [
    {
     "data": {
      "text/plain": [
       "<matplotlib.legend.Legend at 0x2c162417640>"
      ]
     },
     "execution_count": 71,
     "metadata": {},
     "output_type": "execute_result"
    },
    {
     "data": {
      "image/png": "[encoded data removed]",
      "text/plain": [
       "<Figure size 432x288 with 1 Axes>"
      ]
     },
     "metadata": {
      "needs_background": "light"
     },
     "output_type": "display_data"
    }
   ],
   "source": [
    "#combined histogram chart for june companies\n",
    "legend1 = {'Bird':'0', 'Lyft':'1', 'Gotcha':'2', 'Lime':'3', 'Spin':'4', 'Jump':'5', 'Bolt':'6'}\n",
    "plt.hist(bird_charge_june['chargelevel'], bins = 25, alpha = 0.5)\n",
    "plt.hist(lyft_charge_june['chargelevel'], bins = 25, alpha = 0.5)\n",
    "plt.hist(gotcha_charge_june['chargelevel'], bins = 25, alpha = 0.5)\n",
    "plt.hist(lime_charge_june['chargelevel'], bins = 25, alpha = 0.5)\n",
    "plt.hist(spin_charge_june['chargelevel'], bins = 25, alpha = 0.5)\n",
    "plt.hist(jump_charge_june['chargelevel'], bins = 25, alpha = 0.5)\n",
    "plt.hist(bolt_charge_june['chargelevel'], bins = 25, alpha = 0.5)\n",
    "plt.title('June Charge Level')\n",
    "plt.legend(legend1)"
   ]
  },
  {
   "cell_type": "code",
   "execution_count": 72,
   "metadata": {},
   "outputs": [],
   "source": [
    "#july charge level bird\n",
    "bird_charge_july = july.loc[july['companyname'] == 0]"
   ]
  },
  {
   "cell_type": "code",
   "execution_count": 73,
   "metadata": {},
   "outputs": [],
   "source": [
    "#july charge level bird\n",
    "lyft_charge_july = july.loc[july['companyname'] == 1]"
   ]
  },
  {
   "cell_type": "code",
   "execution_count": 74,
   "metadata": {},
   "outputs": [],
   "source": [
    "#july charge level bird\n",
    "gotcha_charge_july = july.loc[july['companyname'] == 2]"
   ]
  },
  {
   "cell_type": "code",
   "execution_count": 75,
   "metadata": {},
   "outputs": [],
   "source": [
    "#july charge level bird\n",
    "lime_charge_july = july.loc[july['companyname'] == 3]"
   ]
  },
  {
   "cell_type": "code",
   "execution_count": 76,
   "metadata": {},
   "outputs": [],
   "source": [
    "#july charge level bird\n",
    "spin_charge_july = july.loc[july['companyname'] == 4]"
   ]
  },
  {
   "cell_type": "code",
   "execution_count": 77,
   "metadata": {},
   "outputs": [],
   "source": [
    "#july charge level bird\n",
    "jump_charge_july = july.loc[july['companyname'] == 5]"
   ]
  },
  {
   "cell_type": "code",
   "execution_count": 78,
   "metadata": {},
   "outputs": [],
   "source": [
    "#july charge level bird\n",
    "bolt_charge_july = july.loc[july['companyname'] == 6]"
   ]
  },
  {
   "cell_type": "markdown",
   "metadata": {},
   "source": [
    "## Plotting Final Charts for the Presentation"
   ]
  },
  {
   "cell_type": "code",
   "execution_count": 83,
   "metadata": {
    "scrolled": false
   },
   "outputs": [
    {
     "data": {
      "image/png": "[encoded data removed]",
      "text/plain": [
       "<Figure size 1440x1080 with 7 Axes>"
      ]
     },
     "metadata": {
      "needs_background": "light"
     },
     "output_type": "display_data"
    }
   ],
   "source": [
    "#separate histogram chart for july companies\n",
    "f, (ax1, ax2, ax3, ax4, ax5, ax6, ax7) = plt.subplots(figsize = (20, 15), nrows = 1, ncols = 7,sharey = True, sharex = True)\n",
    "f.suptitle('May Charge Level')\n",
    "ax1.hist(bird_charge_may['chargelevel'], color = '#FFC027', weights = np.ones(len(bird_charge_may['chargelevel']))/len(bird_charge_may['chargelevel']), bins = 25)\n",
    "ax2.hist(lyft_charge_may['chargelevel'], color = '#FFC027', weights = np.ones(len(lyft_charge_may['chargelevel']))/len(lyft_charge_may['chargelevel']), bins = 25)\n",
    "ax3.hist(gotcha_charge_may['chargelevel'], color = '#FFC027', weights = np.ones(len(gotcha_charge_may['chargelevel']))/len(gotcha_charge_may['chargelevel']), bins = 25)\n",
    "ax4.hist(lime_charge_may['chargelevel'], color = '#FFC027', weights = np.ones(len(lime_charge_may['chargelevel']))/len(lime_charge_may['chargelevel']), bins = 25)\n",
    "ax5.hist(spin_charge_may['chargelevel'], color = '#FFC027', weights = np.ones(len(spin_charge_may['chargelevel']))/len(spin_charge_may['chargelevel']), bins = 25)\n",
    "ax6.hist(jump_charge_may['chargelevel'], color = '#FFC027', weights = np.ones(len(jump_charge_may['chargelevel']))/len(jump_charge_may['chargelevel']), bins = 25)\n",
    "ax7.hist(bolt_charge_may['chargelevel'], color = '#FFC027', weights = np.ones(len(bolt_charge_may['chargelevel']))/len(bolt_charge_may['chargelevel']), bins = 25)\n",
    "ax1.title.set_text('Bird')\n",
    "ax2.title.set_text('Lyft')\n",
    "ax3.title.set_text('Gotcha')\n",
    "ax4.title.set_text('Lime')\n",
    "ax5.title.set_text('Spin')\n",
    "ax6.title.set_text('Jump')\n",
    "ax7.title.set_text('Bolt')\n",
    "plt.gca().yaxis.set_major_formatter(PercentFormatter(1))\n",
    "#plt.ylabel('Percent of Total Scooters')\n",
    "#plt.xlabel('Battery Level Percent')\n",
    "plt.rcParams.update({'font.size': 30})\n",
    "f.text(0.5, -.03, 'Battery Level Percent', ha='center')\n",
    "f.text(-.03, 0.5,'Percent of Total Scooters', va='center', rotation='vertical')\n",
    "f.tight_layout();"
   ]
  },
  {
   "cell_type": "code",
   "execution_count": 80,
   "metadata": {
    "scrolled": false
   },
   "outputs": [
    {
     "data": {
      "image/png": "[encoded data removed]",
      "text/plain": [
       "<Figure size 1440x1080 with 7 Axes>"
      ]
     },
     "metadata": {
      "needs_background": "light"
     },
     "output_type": "display_data"
    }
   ],
   "source": [
    "#separate histogram chart for july companies\n",
    "f, (ax1, ax2, ax3, ax4, ax5, ax6, ax7) = plt.subplots(figsize = (20, 15), nrows = 1, ncols = 7,sharey = True, sharex = True)\n",
    "f.suptitle('June Charge Level')\n",
    "ax1.hist(bird_charge_june['chargelevel'], color = '#1F375D', weights = np.ones(len(bird_charge_june['chargelevel']))/len(bird_charge_june['chargelevel']), bins = 25)\n",
    "ax2.hist(lyft_charge_june['chargelevel'], color = '#1F375D', weights = np.ones(len(lyft_charge_june['chargelevel']))/len(lyft_charge_june['chargelevel']), bins = 25)\n",
    "ax3.hist(gotcha_charge_june['chargelevel'], color = '#1F375D', weights = np.ones(len(gotcha_charge_june['chargelevel']))/len(gotcha_charge_june['chargelevel']), bins = 25)\n",
    "ax4.hist(lime_charge_june['chargelevel'], color = '#1F375D', weights = np.ones(len(lime_charge_june['chargelevel']))/len(lime_charge_june['chargelevel']), bins = 25)\n",
    "ax5.hist(spin_charge_june['chargelevel'], color = '#1F375D', weights = np.ones(len(spin_charge_june['chargelevel']))/len(spin_charge_june['chargelevel']), bins = 25)\n",
    "ax6.hist(jump_charge_june['chargelevel'], color = '#1F375D', weights = np.ones(len(jump_charge_june['chargelevel']))/len(jump_charge_june['chargelevel']), bins = 25)\n",
    "ax7.hist(bolt_charge_june['chargelevel'], color = '#1F375D', weights = np.ones(len(bolt_charge_june['chargelevel']))/len(bolt_charge_june['chargelevel']), bins = 25)\n",
    "ax1.title.set_text('Bird')\n",
    "ax2.title.set_text('Lyft')\n",
    "ax3.title.set_text('Gotcha')\n",
    "ax4.title.set_text('Lime')\n",
    "ax5.title.set_text('Spin')\n",
    "ax6.title.set_text('Jump')\n",
    "ax7.title.set_text('Bolt')\n",
    "plt.gca().yaxis.set_major_formatter(PercentFormatter(1))\n",
    "#plt.ylabel('Percent of Total Scooters')\n",
    "#plt.xlabel('Battery Level Percent')\n",
    "plt.rcParams.update({'font.size': 30})\n",
    "f.text(0.5, -.03, 'Battery Level Percent', ha='center')\n",
    "f.text(-.03, 0.5,'Percent of Total Scooters', va='center', rotation='vertical')\n",
    "f.tight_layout();"
   ]
  },
  {
   "cell_type": "code",
   "execution_count": 81,
   "metadata": {
    "scrolled": false
   },
   "outputs": [
    {
     "data": {
      "image/png": "[encoded data removed]",
      "text/plain": [
       "<Figure size 1440x1080 with 7 Axes>"
      ]
     },
     "metadata": {
      "needs_background": "light"
     },
     "output_type": "display_data"
    }
   ],
   "source": [
    "#separate histogram chart for july companies\n",
    "f, (ax1, ax2, ax3, ax4, ax5, ax6, ax7) = plt.subplots(figsize = (20, 15), nrows = 1, ncols = 7,sharey = True, sharex = True)\n",
    "f.suptitle('July Charge Level')\n",
    "ax1.hist(bird_charge_july['chargelevel'], color = '#898D8E', weights = np.ones(len(bird_charge_july['chargelevel']))/len(bird_charge_july['chargelevel']), bins = 25)\n",
    "ax2.hist(lyft_charge_july['chargelevel'], color = '#898D8E', weights = np.ones(len(lyft_charge_july['chargelevel']))/len(lyft_charge_july['chargelevel']), bins = 25)\n",
    "ax3.hist(gotcha_charge_july['chargelevel'], color = '#898D8E', weights = np.ones(len(gotcha_charge_july['chargelevel']))/len(gotcha_charge_july['chargelevel']), bins = 25)\n",
    "ax4.hist(lime_charge_july['chargelevel'], color = '#898D8E', weights = np.ones(len(lime_charge_july['chargelevel']))/len(lime_charge_july['chargelevel']), bins = 25)\n",
    "ax5.hist(spin_charge_july['chargelevel'], color = '#898D8E', weights = np.ones(len(spin_charge_july['chargelevel']))/len(spin_charge_july['chargelevel']), bins = 25)\n",
    "ax6.hist(jump_charge_july['chargelevel'], color = '#898D8E', weights = np.ones(len(jump_charge_july['chargelevel']))/len(jump_charge_july['chargelevel']), bins = 25)\n",
    "ax7.hist(bolt_charge_july['chargelevel'], color = '#898D8E', weights = np.ones(len(bolt_charge_july['chargelevel']))/len(bolt_charge_july['chargelevel']), bins = 25)\n",
    "ax1.title.set_text('Bird')\n",
    "ax2.title.set_text('Lyft')\n",
    "ax3.title.set_text('Gotcha')\n",
    "ax4.title.set_text('Lime')\n",
    "ax5.title.set_text('Spin')\n",
    "ax6.title.set_text('Jump')\n",
    "ax7.title.set_text('Bolt')\n",
    "plt.gca().yaxis.set_major_formatter(PercentFormatter(1))\n",
    "#plt.ylabel('Percent of Total Scooters')\n",
    "#plt.xlabel('Battery Level Percent')\n",
    "plt.rcParams.update({'font.size': 30})\n",
    "f.text(0.5, -.03, 'Battery Level Percent', ha='center')\n",
    "f.text(-.03, 0.5,'Percent of Total Scooters', va='center', rotation='vertical')\n",
    "f.tight_layout();"
   ]
  },
  {
   "cell_type": "markdown",
   "metadata": {},
   "source": [
    "## Jump was the only company to increase scooter counts over the three months"
   ]
  }
 ],
 "metadata": {
  "kernelspec": {
   "display_name": "Python 3",
   "language": "python",
   "name": "python3"
  },
  "language_info": {
   "codemirror_mode": {
    "name": "ipython",
    "version": 3
   },
   "file_extension": ".py",
   "mimetype": "text/x-python",
   "name": "python",
   "nbconvert_exporter": "python",
   "pygments_lexer": "ipython3",
   "version": "3.8.5"
  }
 },
 "nbformat": 4,
 "nbformat_minor": 4
}
